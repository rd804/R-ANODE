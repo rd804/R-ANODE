{
 "cells": [
  {
   "cell_type": "code",
   "execution_count": 1,
   "metadata": {},
   "outputs": [],
   "source": [
    "import numpy as np\n",
    "import matplotlib.pyplot as plt\n",
    "from tqdm.notebook import tqdm\n",
    "from src.nflow_utils import *\n"
   ]
  },
  {
   "cell_type": "code",
   "execution_count": 2,
   "metadata": {},
   "outputs": [],
   "source": [
    "from nflows import transforms, distributions, flows\n",
    "import torch\n",
    "import torch.nn.functional as F\n",
    "from nflows.distributions import uniform\n"
   ]
  },
  {
   "cell_type": "code",
   "execution_count": null,
   "metadata": {},
   "outputs": [],
   "source": [
    "#os.environ[\"CUDA_VISIBLE_DEVICES\"]='2'\n",
    "\n",
    "\n",
    "CUDA = True\n",
    "device = torch.device(\"cuda:0\" if CUDA else \"cpu\")\n",
    "\n",
    "kwargs = {'num_workers': 4, 'pin_memory': True} if CUDA else {}\n",
    "kwargs = {}\n"
   ]
  },
  {
   "cell_type": "code",
   "execution_count": 3,
   "metadata": {},
   "outputs": [],
   "source": [
    "import pickle\n",
    "\n",
    "with open('../data/data_2d.pkl','rb') as f:\n",
    "    data = pickle.load(f)\n",
    "\n",
    "with open('../data/true_w_2d.pkl','rb') as f:\n",
    "    true_w = pickle.load(f)"
   ]
  },
  {
   "cell_type": "code",
   "execution_count": 4,
   "metadata": {},
   "outputs": [],
   "source": [
    "sig_sigma = 0.25\n",
    "sig_mean = 2\n",
    "back_mean = 0\n",
    "back_sigma = 3"
   ]
  },
  {
   "cell_type": "code",
   "execution_count": 5,
   "metadata": {},
   "outputs": [],
   "source": [
    "w_ = true_w['10'][0]"
   ]
  },
  {
   "cell_type": "code",
   "execution_count": 6,
   "metadata": {},
   "outputs": [],
   "source": [
    "data_ = data['10']['val']['data']\n",
    "label_ = data['10']['val']['label']\n",
    "#label_ = 1-label_"
   ]
  },
  {
   "cell_type": "code",
   "execution_count": 8,
   "metadata": {},
   "outputs": [
    {
     "data": {
      "image/png": "[encoded data removed]",
      "text/plain": [
       "<Figure size 640x480 with 1 Axes>"
      ]
     },
     "metadata": {},
     "output_type": "display_data"
    }
   ],
   "source": [
    "plt.hist(data_[label_==0][:,1], bins=100, alpha=0.5, histtype='step', label='background', density=True)\n",
    "plt.hist(data_[label_==1][:,1], bins=100, alpha=0.5, histtype='step', label='signal', density=True)\n",
    "plt.legend()\n",
    "plt.show()"
   ]
  },
  {
   "cell_type": "code",
   "execution_count": 15,
   "metadata": {},
   "outputs": [],
   "source": [
    "def p_data(data,mu,sigma,p,dim=1):\n",
    "\n",
    "    \"\"\" 2 gaussian mixture model\"\"\"\n",
    "    p_c1 = 1.0\n",
    "    p_c2 = 1.0\n",
    "\n",
    "    print('mu', mu)\n",
    "    print('sigma', sigma)\n",
    "    print(data.shape)\n",
    "    \n",
    "    for d in range(dim):\n",
    "        p_c1 *= norm.pdf(data[:,d], mu[0], sigma[0])\n",
    "\n",
    "    for d in range(dim):\n",
    "        p_c2 *= norm.pdf(data[:,d], mu[1], sigma[1])\n",
    "\n",
    "    return p[0]*(p_c1) + p[1]*(p_c2)\n",
    "\n",
    "def p_back(data,mu,sigma,dim=1):\n",
    "\n",
    "    \"\"\" background gaussian \"\"\"\n",
    "    pc = 1.0\n",
    "    print('mu', mu)\n",
    "    print('sigma', sigma)\n",
    "    for d in range(dim):\n",
    "        pc *= norm.pdf(data[:,d], mu,sigma)\n",
    "\n",
    "    return pc"
   ]
  },
  {
   "cell_type": "code",
   "execution_count": 7,
   "metadata": {},
   "outputs": [],
   "source": [
    "data_p = p_data(data_,[sig_mean, back_mean],[sig_sigma,back_sigma],\n",
    "                [w_, 1-w_], dim=2)\n",
    "#back_p = p_back(data_,back_mean, back_sigma, dim=2)"
   ]
  },
  {
   "cell_type": "code",
   "execution_count": 7,
   "metadata": {},
   "outputs": [],
   "source": [
    "from sklearn.model_selection import ShuffleSplit"
   ]
  },
  {
   "cell_type": "code",
   "execution_count": 8,
   "metadata": {},
   "outputs": [],
   "source": [
    "shuffle_split = ShuffleSplit(n_splits=10, test_size=0.1, random_state=0)"
   ]
  },
  {
   "cell_type": "code",
   "execution_count": null,
   "metadata": {},
   "outputs": [],
   "source": []
  },
  {
   "cell_type": "code",
   "execution_count": 12,
   "metadata": {},
   "outputs": [
    {
     "name": "stdout",
     "output_type": "stream",
     "text": [
      "[[ 2.21023224 -5.15802605]\n",
      " [ 4.54013893  4.57280163]\n",
      " [ 3.09959381  2.8895487 ]\n",
      " [ 2.48013799  2.32648868]\n",
      " [-0.56282119  4.20969567]\n",
      " [ 2.15113231  1.70037414]\n",
      " [ 0.19642975  0.43833637]\n",
      " [-0.2580104  -4.77207014]\n",
      " [ 1.96267534  1.94335251]\n",
      " [-5.25727805  1.84582057]\n",
      " [ 2.30783033  1.86187376]\n",
      " [ 1.89676579  0.25985927]\n",
      " [-2.22225255  4.0143293 ]\n",
      " [ 1.39047369  1.67737235]\n",
      " [-2.15420164 -2.83698704]\n",
      " [-3.64543293 -1.77024597]\n",
      " [-0.27979051 -4.38982396]\n",
      " [-0.51211967  3.10791019]\n",
      " [-2.13596876  3.08998408]\n",
      " [-0.20361599  2.00569089]]\n",
      "[[ 6.36070988  3.65095922]\n",
      " [-2.96638664  2.1464416 ]\n",
      " [ 3.89658683 -0.99778886]\n",
      " [ 4.44406188 -1.98226054]\n",
      " [ 3.8277377  -3.43256335]\n",
      " [-4.41364783  4.75708852]\n",
      " [-0.452913   -1.31548606]\n",
      " [-1.25225865  0.6790395 ]\n",
      " [ 1.84651004  2.23160489]\n",
      " [ 2.09782942 -0.43732785]\n",
      " [ 1.8689535   1.85769757]\n",
      " [ 5.36248275 -2.06589969]\n",
      " [-6.18701081  2.1542366 ]\n",
      " [ 2.12889522  2.24467507]\n",
      " [-2.21514181 -0.77712474]\n",
      " [ 1.95460361  1.82230196]\n",
      " [-3.08739106 -4.04438073]\n",
      " [ 2.13785964 -3.31799929]\n",
      " [ 1.49201806 -3.3220835 ]\n",
      " [-5.50582525 -0.34121264]]\n",
      "[[ 1.44469505 -3.45172705]\n",
      " [ 3.01861584  4.05246522]\n",
      " [ 0.62761356  4.84996986]\n",
      " [-2.14706261  3.95893025]\n",
      " [ 2.54992899  6.62765041]\n",
      " [ 0.21664293 -1.6590581 ]\n",
      " [-2.92360042  1.0512371 ]\n",
      " [-3.92479587  2.3822148 ]\n",
      " [ 1.89766476 -1.30306746]\n",
      " [ 2.13192325  1.77346699]\n",
      " [-3.78422985  7.10621372]\n",
      " [ 2.22853047  0.64164642]\n",
      " [-5.93721658  3.70705678]\n",
      " [ 0.63926282 -2.05320983]\n",
      " [ 1.031974    1.58739258]\n",
      " [-6.71660679 -2.69515652]\n",
      " [ 2.18193611  1.71805129]\n",
      " [-0.07065299  2.84183303]\n",
      " [ 1.77931679  2.04865738]\n",
      " [-5.68270812  1.06947528]]\n",
      "[[ 3.31967628  2.73782903]\n",
      " [ 2.01470548  2.03644832]\n",
      " [ 3.34073368  3.77626498]\n",
      " [-0.08819419  1.90579052]\n",
      " [ 0.8564925  -1.72374685]\n",
      " [-0.98835208 -2.55124408]\n",
      " [-0.86423661 -0.70110032]\n",
      " [-0.39487498 -0.93943258]\n",
      " [ 7.65554618  0.54176686]\n",
      " [ 2.08728462  2.45190867]\n",
      " [ 1.18283822 -3.60203182]\n",
      " [-0.27859551  2.73750949]\n",
      " [-0.67047949  2.75577038]\n",
      " [-2.91898365  3.34792339]\n",
      " [ 4.62750601  3.83832495]\n",
      " [-3.868462   -0.70381292]\n",
      " [-3.90583233  0.21811203]\n",
      " [ 1.9605064   2.08654123]\n",
      " [-0.50113274 -4.15139315]\n",
      " [ 1.14930178  1.12015878]]\n",
      "[[ 0.94058996 -1.40672352]\n",
      " [ 9.03360384 -0.22793963]\n",
      " [-1.20874249 -2.79225713]\n",
      " [ 0.72929407  4.23966074]\n",
      " [ 4.84358574  0.32452074]\n",
      " [ 1.73641977  2.25262496]\n",
      " [ 3.03843976  2.6112457 ]\n",
      " [-2.03348731 -4.07352369]\n",
      " [ 1.0133569  -4.08787593]\n",
      " [-0.81674163  1.28809378]\n",
      " [ 1.82584894  1.89758241]\n",
      " [-3.22243859 -4.23811376]\n",
      " [-5.2898997  -1.49239237]\n",
      " [ 7.73591426 -0.3263575 ]\n",
      " [ 2.22012507  1.69086494]\n",
      " [-1.16563619 -1.25026349]\n",
      " [ 1.78081616  2.96364428]\n",
      " [ 1.73620818  1.80517744]\n",
      " [-1.67391678 -1.89509092]\n",
      " [ 1.07633666  4.70217695]]\n",
      "[[-3.08371359  2.82675284]\n",
      " [ 1.25108326 -1.25786695]\n",
      " [ 1.71201451  2.0164194 ]\n",
      " [ 2.40100129  2.06128105]\n",
      " [-1.6999513   1.49052753]\n",
      " [ 1.60104298 -4.22426204]\n",
      " [ 1.86418822  1.81908951]\n",
      " [ 1.25238827 -0.08983715]\n",
      " [-3.27103768 -0.82195979]\n",
      " [-5.17913816 -5.55136265]\n",
      " [ 2.03054563  1.11582715]\n",
      " [ 2.04991928  1.8533749 ]\n",
      " [-2.88331639 -5.48605972]\n",
      " [-1.17584824 -2.14704271]\n",
      " [-1.19134889 -6.54975507]\n",
      " [ 1.44517963 -2.25114295]\n",
      " [ 2.23529349  2.17634984]\n",
      " [-3.06179366 -0.48845299]\n",
      " [ 6.46727847  3.86949403]\n",
      " [ 2.33045281  2.59440793]]\n",
      "[[ 1.7040209   4.18334952]\n",
      " [-6.36640198  1.40126762]\n",
      " [ 6.0771436   4.03894662]\n",
      " [ 2.29635981 -0.34419069]\n",
      " [-1.24004948 -0.96401396]\n",
      " [ 1.27306655 -6.60681737]\n",
      " [-1.66174062 -3.79723381]\n",
      " [ 1.64747205  1.72936023]\n",
      " [ 1.76516689  2.65452808]\n",
      " [ 1.42918843  1.58704341]\n",
      " [ 3.1731631   1.85594807]\n",
      " [-0.9415801   0.79434239]\n",
      " [-0.43121351 -1.7860892 ]\n",
      " [-0.12551141 -7.53548065]\n",
      " [ 3.3579789   2.33699132]\n",
      " [-3.65292253  0.81493349]\n",
      " [ 2.17971449  2.18609654]\n",
      " [ 4.93054652 -0.03744032]\n",
      " [ 2.71285964 -0.6466134 ]\n",
      " [-3.10060635 -3.25713217]]\n",
      "[[ 1.97437716  2.16999142]\n",
      " [ 4.96027076 -2.67957387]\n",
      " [-0.92789795 -0.19183385]\n",
      " [ 0.96748832  0.22886708]\n",
      " [ 1.1454558   2.68945187]\n",
      " [ 1.64708178  1.45353202]\n",
      " [-3.474061   -2.45229621]\n",
      " [ 4.09209174  1.83489284]\n",
      " [ 2.59373547  2.2213509 ]\n",
      " [ 3.41665873  3.61583146]\n",
      " [-1.16894009 -0.77416257]\n",
      " [ 2.87226964 -1.02412251]\n",
      " [-1.2991162   2.59003094]\n",
      " [ 0.02672101  5.58354576]\n",
      " [-3.39349506  0.86999347]\n",
      " [ 1.11955465  2.41650704]\n",
      " [-2.64490482 -6.09728325]\n",
      " [ 2.3475201   1.94263126]\n",
      " [-0.99250799  1.47896982]\n",
      " [ 2.16172103  1.96427736]]\n",
      "[[ 0.31278788 -2.89437408]\n",
      " [-0.53243747 -1.07683939]\n",
      " [-1.33741598  2.26416211]\n",
      " [-4.66723646  1.54093845]\n",
      " [ 3.45516025  1.00287919]\n",
      " [ 2.49834285  1.97125155]\n",
      " [ 4.10902375  0.34465605]\n",
      " [-0.9802671   2.65828032]\n",
      " [ 4.70191864  1.63762738]\n",
      " [ 2.05375692  2.08724047]\n",
      " [ 1.55236145  2.09133493]\n",
      " [ 0.70678566 -0.34091595]\n",
      " [ 2.04345438  2.24173071]\n",
      " [ 5.9159314  -5.37835123]\n",
      " [ 2.12588215  2.12556605]\n",
      " [-0.43043163  1.98849192]\n",
      " [ 1.83691242 -5.66418833]\n",
      " [-0.12865007 -4.36698275]\n",
      " [ 2.21104981  2.22924912]\n",
      " [-0.07252982 -6.63989651]]\n",
      "[[-1.13685237 -5.01399142]\n",
      " [ 6.30235832 -2.71021209]\n",
      " [ 2.26010828  1.7725789 ]\n",
      " [ 0.71757152  1.92732045]\n",
      " [ 5.99956722  2.67165441]\n",
      " [-6.57871927 -4.0747588 ]\n",
      " [-0.48575322 -1.02110368]\n",
      " [-0.44205256 -0.52388509]\n",
      " [-2.34171987 -2.90277719]\n",
      " [ 1.66078245  1.84451492]\n",
      " [-1.39664741  1.63621173]\n",
      " [-3.68321715 -2.17006833]\n",
      " [ 6.5568228  -1.61591415]\n",
      " [-0.38574082  2.18038252]\n",
      " [ 3.8050501  -2.31415978]\n",
      " [-2.27333385 -0.23384171]\n",
      " [ 1.4055668   2.11235433]\n",
      " [ 2.12685898  2.08087158]\n",
      " [ 3.78461609 -1.84348072]\n",
      " [ 1.00251871 -1.61320991]]\n"
     ]
    }
   ],
   "source": [
    "for train, val in shuffle_split.split(data_, label_):\n",
    "    data_train = data_[train]\n",
    "    data_val = data_[val]\n",
    "    print(data_train[0:20])"
   ]
  },
  {
   "cell_type": "code",
   "execution_count": 9,
   "metadata": {},
   "outputs": [],
   "source": [
    "model_S = gaussian_prob(sig_mean, sig_sigma, dim=2)\n",
    "model_B = gaussian_prob(back_mean, back_sigma, dim=2)"
   ]
  },
  {
   "cell_type": "code",
   "execution_count": null,
   "metadata": {},
   "outputs": [],
   "source": []
  },
  {
   "cell_type": "code",
   "execution_count": 15,
   "metadata": {},
   "outputs": [
    {
     "data": {
      "text/plain": [
       "array([-4.33592236, -4.41438434, -4.45074387, ..., -6.99441828,\n",
       "       -5.95669318, -5.48012242])"
      ]
     },
     "execution_count": 15,
     "metadata": {},
     "output_type": "execute_result"
    }
   ],
   "source": [
    "w_* np.exp(model_S.log_prob(torch.tensor(data_)).numpy()) + \\\n",
    "(1-w_) * np.exp(model_B.log_prob(torch.tensor(data_)).numpy())"
   ]
  },
  {
   "cell_type": "code",
   "execution_count": 18,
   "metadata": {},
   "outputs": [
    {
     "data": {
      "image/png": "[encoded data removed]",
      "text/plain": [
       "<Figure size 640x480 with 1 Axes>"
      ]
     },
     "metadata": {},
     "output_type": "display_data"
    }
   ],
   "source": [
    "sic, tpr , auc = SIC(label_, data_p/back_p)\n",
    "\n",
    "plt.plot(tpr, sic, label='true: auc = {:.3f}'.format(auc))\n",
    "plt.show()"
   ]
  },
  {
   "cell_type": "code",
   "execution_count": 4,
   "metadata": {},
   "outputs": [],
   "source": [
    "CRdata=np.random.normal(scale=1,loc=0,size=100000)\n",
    "SRdata=np.concatenate((np.random.normal(scale=1,loc=0,size=50000),np.random.normal(scale=1,loc=3,size=50000)))\n",
    "np.random.shuffle(SRdata)"
   ]
  },
  {
   "cell_type": "code",
   "execution_count": 5,
   "metadata": {},
   "outputs": [
    {
     "data": {
      "image/png": "[encoded data removed]",
      "text/plain": [
       "<Figure size 640x480 with 1 Axes>"
      ]
     },
     "metadata": {},
     "output_type": "display_data"
    }
   ],
   "source": [
    "_=plt.hist(SRdata,bins=100)"
   ]
  },
  {
   "cell_type": "code",
   "execution_count": null,
   "metadata": {},
   "outputs": [],
   "source": []
  },
  {
   "cell_type": "code",
   "execution_count": 6,
   "metadata": {},
   "outputs": [],
   "source": [
    "traintensor = torch.from_numpy(SRdata[:90000].astype('float32').reshape((-1,1)))\n",
    "#traindataset = torch.utils.data.TensorDataset(traintensor)\n",
    "\n",
    "valtensor = torch.from_numpy(SRdata[90000:].astype('float32').reshape((-1,1)))\n",
    "#valdataset = torch.utils.data.TensorDataset(valtensor)"
   ]
  },
  {
   "cell_type": "code",
   "execution_count": 7,
   "metadata": {},
   "outputs": [
    {
     "data": {
      "text/plain": [
       "100000"
      ]
     },
     "execution_count": 7,
     "metadata": {},
     "output_type": "execute_result"
    }
   ],
   "source": [
    "len(SRdata)"
   ]
  },
  {
   "cell_type": "code",
   "execution_count": 8,
   "metadata": {},
   "outputs": [],
   "source": [
    "# Use the standard pytorch DataLoader\n",
    "batch_size = 256\n",
    "#batch_size = 256\n",
    "trainloader = torch.utils.data.DataLoader(traintensor, batch_size=batch_size, shuffle=True)\n"
   ]
  },
  {
   "cell_type": "code",
   "execution_count": 9,
   "metadata": {},
   "outputs": [],
   "source": [
    "test_batch_size=batch_size*5\n",
    "valloader = torch.utils.data.DataLoader(valtensor, batch_size=test_batch_size, shuffle=False)\n"
   ]
  },
  {
   "cell_type": "code",
   "execution_count": 10,
   "metadata": {},
   "outputs": [],
   "source": [
    "model=define_model(nfeatures=1,nhidden=2,hidden_size=20,embedding=None,dropout=0,nembedding=0)\n"
   ]
  },
  {
   "cell_type": "code",
   "execution_count": null,
   "metadata": {},
   "outputs": [],
   "source": []
  },
  {
   "cell_type": "code",
   "execution_count": null,
   "metadata": {},
   "outputs": [],
   "source": []
  },
  {
   "cell_type": "code",
   "execution_count": 11,
   "metadata": {},
   "outputs": [
    {
     "name": "stdout",
     "output_type": "stream",
     "text": [
      "\n",
      " Epoch: 0\n",
      "epoch 0 val loss:  1.956383203125\n",
      "\n",
      " Epoch: 1\n",
      "epoch 1 val loss:  1.9546015625\n",
      "\n",
      " Epoch: 2\n",
      "epoch 2 val loss:  1.9536119140625\n",
      "\n",
      " Epoch: 3\n",
      "epoch 3 val loss:  1.954163671875\n",
      "\n",
      " Epoch: 4\n",
      "epoch 4 val loss:  1.9559248046875\n",
      "\n",
      " Epoch: 5\n",
      "epoch 5 val loss:  1.953825390625\n",
      "\n",
      " Epoch: 6\n",
      "epoch 6 val loss:  1.9536728515625\n",
      "\n",
      " Epoch: 7\n",
      "epoch 7 val loss:  1.9539892578125\n",
      "\n",
      " Epoch: 8\n",
      "epoch 8 val loss:  1.9540080078125\n",
      "\n",
      " Epoch: 9\n",
      "epoch 9 val loss:  1.9547755859375\n",
      "\n",
      " Epoch: 10\n",
      "epoch 10 val loss:  1.9540123046875\n",
      "\n",
      " Epoch: 11\n",
      "epoch 11 val loss:  1.954619140625\n",
      "\n",
      " Epoch: 12\n",
      "epoch 12 val loss:  1.9531015625\n",
      "\n",
      " Epoch: 13\n",
      "epoch 13 val loss:  1.9544060546875\n",
      "\n",
      " Epoch: 14\n",
      "epoch 14 val loss:  1.9540078125\n",
      "\n",
      " Epoch: 15\n",
      "epoch 15 val loss:  1.9541884765625\n",
      "\n",
      " Epoch: 16\n",
      "epoch 16 val loss:  1.95457265625\n",
      "\n",
      " Epoch: 17\n",
      "epoch 17 val loss:  1.953153125\n",
      "\n",
      " Epoch: 18\n",
      "epoch 18 val loss:  1.95331796875\n",
      "\n",
      " Epoch: 19\n",
      "epoch 19 val loss:  1.953458203125\n",
      "\n",
      " Epoch: 20\n",
      "epoch 20 val loss:  1.953416015625\n",
      "\n",
      " Epoch: 21\n",
      "epoch 21 val loss:  1.955284375\n",
      "\n",
      " Epoch: 22\n",
      "epoch 22 val loss:  1.9543427734375\n",
      "\n",
      " Epoch: 23\n",
      "epoch 23 val loss:  1.9540548828125\n",
      "\n",
      " Epoch: 24\n",
      "epoch 24 val loss:  1.9533515625\n",
      "\n",
      " Epoch: 25\n",
      "epoch 25 val loss:  1.9533359375\n",
      "\n",
      " Epoch: 26\n",
      "epoch 26 val loss:  1.9530484375\n",
      "\n",
      " Epoch: 27\n",
      "epoch 27 val loss:  1.9538\n",
      "\n",
      " Epoch: 28\n",
      "epoch 28 val loss:  1.9547228515625\n",
      "\n",
      " Epoch: 29\n",
      "epoch 29 val loss:  1.95328515625\n",
      "\n",
      " Epoch: 30\n",
      "epoch 30 val loss:  1.9532724609375\n",
      "\n",
      " Epoch: 31\n",
      "epoch 31 val loss:  1.953679296875\n",
      "\n",
      " Epoch: 32\n",
      "epoch 32 val loss:  1.95378515625\n",
      "\n",
      " Epoch: 33\n",
      "epoch 33 val loss:  1.9529353515625\n",
      "\n",
      " Epoch: 34\n",
      "epoch 34 val loss:  1.953201171875\n",
      "\n",
      " Epoch: 35\n",
      "epoch 35 val loss:  1.9540814453125\n",
      "\n",
      " Epoch: 36\n",
      "epoch 36 val loss:  1.953151171875\n",
      "\n",
      " Epoch: 37\n",
      "epoch 37 val loss:  1.952921484375\n",
      "\n",
      " Epoch: 38\n",
      "epoch 38 val loss:  1.954058984375\n",
      "\n",
      " Epoch: 39\n",
      "epoch 39 val loss:  1.9540798828125\n",
      "\n",
      " Epoch: 40\n",
      "epoch 40 val loss:  1.953105859375\n",
      "\n",
      " Epoch: 41\n",
      "epoch 41 val loss:  1.95410234375\n",
      "\n",
      " Epoch: 42\n",
      "epoch 42 val loss:  1.9528611328125\n",
      "\n",
      " Epoch: 43\n",
      "epoch 43 val loss:  1.9536568359375\n",
      "\n",
      " Epoch: 44\n",
      "epoch 44 val loss:  1.954226953125\n",
      "\n",
      " Epoch: 45\n",
      "epoch 45 val loss:  1.9542720703125\n",
      "\n",
      " Epoch: 46\n",
      "epoch 46 val loss:  1.9530259765625\n",
      "\n",
      " Epoch: 47\n",
      "epoch 47 val loss:  1.9533259765625\n",
      "\n",
      " Epoch: 48\n",
      "epoch 48 val loss:  1.953013671875\n",
      "\n",
      " Epoch: 49\n",
      "epoch 49 val loss:  1.953494140625\n",
      "\n",
      " Epoch: 50\n",
      "epoch 50 val loss:  1.953007421875\n",
      "\n",
      " Epoch: 51\n",
      "epoch 51 val loss:  1.953078125\n",
      "\n",
      " Epoch: 52\n",
      "epoch 52 val loss:  1.9535146484375\n",
      "\n",
      " Epoch: 53\n",
      "epoch 53 val loss:  1.953307421875\n",
      "\n",
      " Epoch: 54\n",
      "epoch 54 val loss:  1.95318125\n",
      "\n",
      " Epoch: 55\n",
      "epoch 55 val loss:  1.9527927734375\n",
      "\n",
      " Epoch: 56\n",
      "epoch 56 val loss:  1.95280078125\n",
      "\n",
      " Epoch: 57\n",
      "epoch 57 val loss:  1.95297109375\n",
      "\n",
      " Epoch: 58\n",
      "epoch 58 val loss:  1.9575455078125\n",
      "\n",
      " Epoch: 59\n",
      "epoch 59 val loss:  1.95750859375\n",
      "\n",
      " Epoch: 60\n",
      "epoch 60 val loss:  1.95338359375\n",
      "\n",
      " Epoch: 61\n",
      "epoch 61 val loss:  1.9528091796875\n",
      "\n",
      " Epoch: 62\n",
      "epoch 62 val loss:  1.95305390625\n",
      "\n",
      " Epoch: 63\n",
      "epoch 63 val loss:  1.953812109375\n",
      "\n",
      " Epoch: 64\n",
      "epoch 64 val loss:  1.9531076171875\n",
      "\n",
      " Epoch: 65\n"
     ]
    },
    {
     "ename": "KeyboardInterrupt",
     "evalue": "",
     "output_type": "error",
     "traceback": [
      "\u001b[0;31m---------------------------------------------------------------------------\u001b[0m",
      "\u001b[0;31mKeyboardInterrupt\u001b[0m                         Traceback (most recent call last)",
      "Cell \u001b[0;32mIn[11], line 7\u001b[0m\n\u001b[1;32m      5\u001b[0m \u001b[39mfor\u001b[39;00m epoch \u001b[39min\u001b[39;00m \u001b[39mrange\u001b[39m(\u001b[39m100\u001b[39m):\n\u001b[1;32m      6\u001b[0m     \u001b[39mprint\u001b[39m(\u001b[39m'\u001b[39m\u001b[39m\\n\u001b[39;00m\u001b[39m Epoch: \u001b[39m\u001b[39m{}\u001b[39;00m\u001b[39m'\u001b[39m\u001b[39m.\u001b[39mformat(epoch))\n\u001b[0;32m----> 7\u001b[0m     train(model,optimizer,trainloader,noise_data\u001b[39m=\u001b[39;49m\u001b[39m0.\u001b[39;49m,noise_context\u001b[39m=\u001b[39;49m\u001b[39m0.0\u001b[39;49m)\n\u001b[1;32m      8\u001b[0m     valloss\u001b[39m=\u001b[39mval(model,valloader)\n\u001b[1;32m      9\u001b[0m     \u001b[39mprint\u001b[39m(\u001b[39m'\u001b[39m\u001b[39mepoch \u001b[39m\u001b[39m'\u001b[39m\u001b[39m+\u001b[39m\u001b[39mstr\u001b[39m(epoch)\u001b[39m+\u001b[39m\u001b[39m'\u001b[39m\u001b[39m val loss: \u001b[39m\u001b[39m'\u001b[39m,valloss)\n",
      "File \u001b[0;32m~/m-anode/src/nflow_utils.py:84\u001b[0m, in \u001b[0;36mtrain\u001b[0;34m(model, optimizer, train_loader, noise_data, noise_context)\u001b[0m\n\u001b[1;32m     81\u001b[0m         optimizer\u001b[39m.\u001b[39mzero_grad()\n\u001b[1;32m     82\u001b[0m         \u001b[39m# print(data, cond_data)\u001b[39;00m\n\u001b[1;32m     83\u001b[0m \u001b[39m#        loss = -model(data, cond_data).mean()\u001b[39;00m\n\u001b[0;32m---> 84\u001b[0m         loss \u001b[39m=\u001b[39m \u001b[39m-\u001b[39mmodel\u001b[39m.\u001b[39;49mlog_prob(data)\u001b[39m.\u001b[39mmean()\n\u001b[1;32m     85\u001b[0m         train_loss \u001b[39m+\u001b[39m\u001b[39m=\u001b[39m loss\u001b[39m.\u001b[39mitem()\n\u001b[1;32m     86\u001b[0m         loss\u001b[39m.\u001b[39mbackward()\n",
      "File \u001b[0;32m~/.conda/envs/manode/lib/python3.9/site-packages/nflows/distributions/base.py:40\u001b[0m, in \u001b[0;36mDistribution.log_prob\u001b[0;34m(self, inputs, context)\u001b[0m\n\u001b[1;32m     36\u001b[0m     \u001b[39mif\u001b[39;00m inputs\u001b[39m.\u001b[39mshape[\u001b[39m0\u001b[39m] \u001b[39m!=\u001b[39m context\u001b[39m.\u001b[39mshape[\u001b[39m0\u001b[39m]:\n\u001b[1;32m     37\u001b[0m         \u001b[39mraise\u001b[39;00m \u001b[39mValueError\u001b[39;00m(\n\u001b[1;32m     38\u001b[0m             \u001b[39m\"\u001b[39m\u001b[39mNumber of input items must be equal to number of context items.\u001b[39m\u001b[39m\"\u001b[39m\n\u001b[1;32m     39\u001b[0m         )\n\u001b[0;32m---> 40\u001b[0m \u001b[39mreturn\u001b[39;00m \u001b[39mself\u001b[39;49m\u001b[39m.\u001b[39;49m_log_prob(inputs, context)\n",
      "File \u001b[0;32m~/.conda/envs/manode/lib/python3.9/site-packages/nflows/flows/base.py:39\u001b[0m, in \u001b[0;36mFlow._log_prob\u001b[0;34m(self, inputs, context)\u001b[0m\n\u001b[1;32m     37\u001b[0m \u001b[39mdef\u001b[39;00m \u001b[39m_log_prob\u001b[39m(\u001b[39mself\u001b[39m, inputs, context):\n\u001b[1;32m     38\u001b[0m     embedded_context \u001b[39m=\u001b[39m \u001b[39mself\u001b[39m\u001b[39m.\u001b[39m_embedding_net(context)\n\u001b[0;32m---> 39\u001b[0m     noise, logabsdet \u001b[39m=\u001b[39m \u001b[39mself\u001b[39;49m\u001b[39m.\u001b[39;49m_transform(inputs, context\u001b[39m=\u001b[39;49membedded_context)\n\u001b[1;32m     40\u001b[0m     log_prob \u001b[39m=\u001b[39m \u001b[39mself\u001b[39m\u001b[39m.\u001b[39m_distribution\u001b[39m.\u001b[39mlog_prob(noise, context\u001b[39m=\u001b[39membedded_context)\n\u001b[1;32m     41\u001b[0m     \u001b[39mreturn\u001b[39;00m log_prob \u001b[39m+\u001b[39m logabsdet\n",
      "File \u001b[0;32m~/.conda/envs/manode/lib/python3.9/site-packages/torch/nn/modules/module.py:1501\u001b[0m, in \u001b[0;36mModule._call_impl\u001b[0;34m(self, *args, **kwargs)\u001b[0m\n\u001b[1;32m   1496\u001b[0m \u001b[39m# If we don't have any hooks, we want to skip the rest of the logic in\u001b[39;00m\n\u001b[1;32m   1497\u001b[0m \u001b[39m# this function, and just call forward.\u001b[39;00m\n\u001b[1;32m   1498\u001b[0m \u001b[39mif\u001b[39;00m \u001b[39mnot\u001b[39;00m (\u001b[39mself\u001b[39m\u001b[39m.\u001b[39m_backward_hooks \u001b[39mor\u001b[39;00m \u001b[39mself\u001b[39m\u001b[39m.\u001b[39m_backward_pre_hooks \u001b[39mor\u001b[39;00m \u001b[39mself\u001b[39m\u001b[39m.\u001b[39m_forward_hooks \u001b[39mor\u001b[39;00m \u001b[39mself\u001b[39m\u001b[39m.\u001b[39m_forward_pre_hooks\n\u001b[1;32m   1499\u001b[0m         \u001b[39mor\u001b[39;00m _global_backward_pre_hooks \u001b[39mor\u001b[39;00m _global_backward_hooks\n\u001b[1;32m   1500\u001b[0m         \u001b[39mor\u001b[39;00m _global_forward_hooks \u001b[39mor\u001b[39;00m _global_forward_pre_hooks):\n\u001b[0;32m-> 1501\u001b[0m     \u001b[39mreturn\u001b[39;00m forward_call(\u001b[39m*\u001b[39;49margs, \u001b[39m*\u001b[39;49m\u001b[39m*\u001b[39;49mkwargs)\n\u001b[1;32m   1502\u001b[0m \u001b[39m# Do not call functions when jit is used\u001b[39;00m\n\u001b[1;32m   1503\u001b[0m full_backward_hooks, non_full_backward_hooks \u001b[39m=\u001b[39m [], []\n",
      "File \u001b[0;32m~/.conda/envs/manode/lib/python3.9/site-packages/nflows/transforms/base.py:56\u001b[0m, in \u001b[0;36mCompositeTransform.forward\u001b[0;34m(self, inputs, context)\u001b[0m\n\u001b[1;32m     54\u001b[0m \u001b[39mdef\u001b[39;00m \u001b[39mforward\u001b[39m(\u001b[39mself\u001b[39m, inputs, context\u001b[39m=\u001b[39m\u001b[39mNone\u001b[39;00m):\n\u001b[1;32m     55\u001b[0m     funcs \u001b[39m=\u001b[39m \u001b[39mself\u001b[39m\u001b[39m.\u001b[39m_transforms\n\u001b[0;32m---> 56\u001b[0m     \u001b[39mreturn\u001b[39;00m \u001b[39mself\u001b[39;49m\u001b[39m.\u001b[39;49m_cascade(inputs, funcs, context)\n",
      "File \u001b[0;32m~/.conda/envs/manode/lib/python3.9/site-packages/nflows/transforms/base.py:50\u001b[0m, in \u001b[0;36mCompositeTransform._cascade\u001b[0;34m(inputs, funcs, context)\u001b[0m\n\u001b[1;32m     48\u001b[0m total_logabsdet \u001b[39m=\u001b[39m inputs\u001b[39m.\u001b[39mnew_zeros(batch_size)\n\u001b[1;32m     49\u001b[0m \u001b[39mfor\u001b[39;00m func \u001b[39min\u001b[39;00m funcs:\n\u001b[0;32m---> 50\u001b[0m     outputs, logabsdet \u001b[39m=\u001b[39m func(outputs, context)\n\u001b[1;32m     51\u001b[0m     total_logabsdet \u001b[39m+\u001b[39m\u001b[39m=\u001b[39m logabsdet\n\u001b[1;32m     52\u001b[0m \u001b[39mreturn\u001b[39;00m outputs, total_logabsdet\n",
      "File \u001b[0;32m~/.conda/envs/manode/lib/python3.9/site-packages/torch/nn/modules/module.py:1501\u001b[0m, in \u001b[0;36mModule._call_impl\u001b[0;34m(self, *args, **kwargs)\u001b[0m\n\u001b[1;32m   1496\u001b[0m \u001b[39m# If we don't have any hooks, we want to skip the rest of the logic in\u001b[39;00m\n\u001b[1;32m   1497\u001b[0m \u001b[39m# this function, and just call forward.\u001b[39;00m\n\u001b[1;32m   1498\u001b[0m \u001b[39mif\u001b[39;00m \u001b[39mnot\u001b[39;00m (\u001b[39mself\u001b[39m\u001b[39m.\u001b[39m_backward_hooks \u001b[39mor\u001b[39;00m \u001b[39mself\u001b[39m\u001b[39m.\u001b[39m_backward_pre_hooks \u001b[39mor\u001b[39;00m \u001b[39mself\u001b[39m\u001b[39m.\u001b[39m_forward_hooks \u001b[39mor\u001b[39;00m \u001b[39mself\u001b[39m\u001b[39m.\u001b[39m_forward_pre_hooks\n\u001b[1;32m   1499\u001b[0m         \u001b[39mor\u001b[39;00m _global_backward_pre_hooks \u001b[39mor\u001b[39;00m _global_backward_hooks\n\u001b[1;32m   1500\u001b[0m         \u001b[39mor\u001b[39;00m _global_forward_hooks \u001b[39mor\u001b[39;00m _global_forward_pre_hooks):\n\u001b[0;32m-> 1501\u001b[0m     \u001b[39mreturn\u001b[39;00m forward_call(\u001b[39m*\u001b[39;49margs, \u001b[39m*\u001b[39;49m\u001b[39m*\u001b[39;49mkwargs)\n\u001b[1;32m   1502\u001b[0m \u001b[39m# Do not call functions when jit is used\u001b[39;00m\n\u001b[1;32m   1503\u001b[0m full_backward_hooks, non_full_backward_hooks \u001b[39m=\u001b[39m [], []\n",
      "File \u001b[0;32m~/.conda/envs/manode/lib/python3.9/site-packages/nflows/transforms/autoregressive.py:39\u001b[0m, in \u001b[0;36mAutoregressiveTransform.forward\u001b[0;34m(self, inputs, context)\u001b[0m\n\u001b[1;32m     37\u001b[0m \u001b[39mdef\u001b[39;00m \u001b[39mforward\u001b[39m(\u001b[39mself\u001b[39m, inputs, context\u001b[39m=\u001b[39m\u001b[39mNone\u001b[39;00m):\n\u001b[1;32m     38\u001b[0m     autoregressive_params \u001b[39m=\u001b[39m \u001b[39mself\u001b[39m\u001b[39m.\u001b[39mautoregressive_net(inputs, context)\n\u001b[0;32m---> 39\u001b[0m     outputs, logabsdet \u001b[39m=\u001b[39m \u001b[39mself\u001b[39;49m\u001b[39m.\u001b[39;49m_elementwise_forward(inputs, autoregressive_params)\n\u001b[1;32m     40\u001b[0m     \u001b[39mreturn\u001b[39;00m outputs, logabsdet\n",
      "File \u001b[0;32m~/.conda/envs/manode/lib/python3.9/site-packages/nflows/transforms/autoregressive.py:426\u001b[0m, in \u001b[0;36mMaskedPiecewiseRationalQuadraticAutoregressiveTransform._elementwise_forward\u001b[0;34m(self, inputs, autoregressive_params)\u001b[0m\n\u001b[1;32m    425\u001b[0m \u001b[39mdef\u001b[39;00m \u001b[39m_elementwise_forward\u001b[39m(\u001b[39mself\u001b[39m, inputs, autoregressive_params):\n\u001b[0;32m--> 426\u001b[0m     \u001b[39mreturn\u001b[39;00m \u001b[39mself\u001b[39;49m\u001b[39m.\u001b[39;49m_elementwise(inputs, autoregressive_params)\n",
      "File \u001b[0;32m~/.conda/envs/manode/lib/python3.9/site-packages/nflows/transforms/autoregressive.py:411\u001b[0m, in \u001b[0;36mMaskedPiecewiseRationalQuadraticAutoregressiveTransform._elementwise\u001b[0;34m(self, inputs, autoregressive_params, inverse)\u001b[0m\n\u001b[1;32m    408\u001b[0m \u001b[39melse\u001b[39;00m:\n\u001b[1;32m    409\u001b[0m     \u001b[39mraise\u001b[39;00m \u001b[39mValueError\u001b[39;00m\n\u001b[0;32m--> 411\u001b[0m outputs, logabsdet \u001b[39m=\u001b[39m spline_fn(\n\u001b[1;32m    412\u001b[0m     inputs\u001b[39m=\u001b[39;49minputs,\n\u001b[1;32m    413\u001b[0m     unnormalized_widths\u001b[39m=\u001b[39;49munnormalized_widths,\n\u001b[1;32m    414\u001b[0m     unnormalized_heights\u001b[39m=\u001b[39;49munnormalized_heights,\n\u001b[1;32m    415\u001b[0m     unnormalized_derivatives\u001b[39m=\u001b[39;49munnormalized_derivatives,\n\u001b[1;32m    416\u001b[0m     inverse\u001b[39m=\u001b[39;49minverse,\n\u001b[1;32m    417\u001b[0m     min_bin_width\u001b[39m=\u001b[39;49m\u001b[39mself\u001b[39;49m\u001b[39m.\u001b[39;49mmin_bin_width,\n\u001b[1;32m    418\u001b[0m     min_bin_height\u001b[39m=\u001b[39;49m\u001b[39mself\u001b[39;49m\u001b[39m.\u001b[39;49mmin_bin_height,\n\u001b[1;32m    419\u001b[0m     min_derivative\u001b[39m=\u001b[39;49m\u001b[39mself\u001b[39;49m\u001b[39m.\u001b[39;49mmin_derivative,\n\u001b[1;32m    420\u001b[0m     \u001b[39m*\u001b[39;49m\u001b[39m*\u001b[39;49mspline_kwargs\n\u001b[1;32m    421\u001b[0m )\n\u001b[1;32m    423\u001b[0m \u001b[39mreturn\u001b[39;00m outputs, torchutils\u001b[39m.\u001b[39msum_except_batch(logabsdet)\n",
      "File \u001b[0;32m~/.conda/envs/manode/lib/python3.9/site-packages/nflows/transforms/splines/rational_quadratic.py:46\u001b[0m, in \u001b[0;36munconstrained_rational_quadratic_spline\u001b[0;34m(inputs, unnormalized_widths, unnormalized_heights, unnormalized_derivatives, inverse, tails, tail_bound, min_bin_width, min_bin_height, min_derivative)\u001b[0m\n\u001b[1;32m     40\u001b[0m     \u001b[39mraise\u001b[39;00m \u001b[39mRuntimeError\u001b[39;00m(\u001b[39m\"\u001b[39m\u001b[39m{}\u001b[39;00m\u001b[39m tails are not implemented.\u001b[39m\u001b[39m\"\u001b[39m\u001b[39m.\u001b[39mformat(tails))\n\u001b[1;32m     42\u001b[0m \u001b[39mif\u001b[39;00m torch\u001b[39m.\u001b[39many(inside_interval_mask):\n\u001b[1;32m     43\u001b[0m     (\n\u001b[1;32m     44\u001b[0m         outputs[inside_interval_mask],\n\u001b[1;32m     45\u001b[0m         logabsdet[inside_interval_mask],\n\u001b[0;32m---> 46\u001b[0m     ) \u001b[39m=\u001b[39m rational_quadratic_spline(\n\u001b[1;32m     47\u001b[0m         inputs\u001b[39m=\u001b[39;49minputs[inside_interval_mask],\n\u001b[1;32m     48\u001b[0m         unnormalized_widths\u001b[39m=\u001b[39;49munnormalized_widths[inside_interval_mask, :],\n\u001b[1;32m     49\u001b[0m         unnormalized_heights\u001b[39m=\u001b[39;49munnormalized_heights[inside_interval_mask, :],\n\u001b[1;32m     50\u001b[0m         unnormalized_derivatives\u001b[39m=\u001b[39;49munnormalized_derivatives[inside_interval_mask, :],\n\u001b[1;32m     51\u001b[0m         inverse\u001b[39m=\u001b[39;49minverse,\n\u001b[1;32m     52\u001b[0m         left\u001b[39m=\u001b[39;49m\u001b[39m-\u001b[39;49mtail_bound,\n\u001b[1;32m     53\u001b[0m         right\u001b[39m=\u001b[39;49mtail_bound,\n\u001b[1;32m     54\u001b[0m         bottom\u001b[39m=\u001b[39;49m\u001b[39m-\u001b[39;49mtail_bound,\n\u001b[1;32m     55\u001b[0m         top\u001b[39m=\u001b[39;49mtail_bound,\n\u001b[1;32m     56\u001b[0m         min_bin_width\u001b[39m=\u001b[39;49mmin_bin_width,\n\u001b[1;32m     57\u001b[0m         min_bin_height\u001b[39m=\u001b[39;49mmin_bin_height,\n\u001b[1;32m     58\u001b[0m         min_derivative\u001b[39m=\u001b[39;49mmin_derivative,\n\u001b[1;32m     59\u001b[0m     )\n\u001b[1;32m     61\u001b[0m \u001b[39mreturn\u001b[39;00m outputs, logabsdet\n",
      "File \u001b[0;32m~/.conda/envs/manode/lib/python3.9/site-packages/nflows/transforms/splines/rational_quadratic.py:121\u001b[0m, in \u001b[0;36mrational_quadratic_spline\u001b[0;34m(inputs, unnormalized_widths, unnormalized_heights, unnormalized_derivatives, inverse, left, right, bottom, top, min_bin_width, min_bin_height, min_derivative)\u001b[0m\n\u001b[1;32m    118\u001b[0m input_delta \u001b[39m=\u001b[39m delta\u001b[39m.\u001b[39mgather(\u001b[39m-\u001b[39m\u001b[39m1\u001b[39m, bin_idx)[\u001b[39m.\u001b[39m\u001b[39m.\u001b[39m\u001b[39m.\u001b[39m, \u001b[39m0\u001b[39m]\n\u001b[1;32m    120\u001b[0m input_derivatives \u001b[39m=\u001b[39m derivatives\u001b[39m.\u001b[39mgather(\u001b[39m-\u001b[39m\u001b[39m1\u001b[39m, bin_idx)[\u001b[39m.\u001b[39m\u001b[39m.\u001b[39m\u001b[39m.\u001b[39m, \u001b[39m0\u001b[39m]\n\u001b[0;32m--> 121\u001b[0m input_derivatives_plus_one \u001b[39m=\u001b[39m derivatives[\u001b[39m.\u001b[39;49m\u001b[39m.\u001b[39;49m\u001b[39m.\u001b[39;49m, \u001b[39m1\u001b[39;49m:]\u001b[39m.\u001b[39mgather(\u001b[39m-\u001b[39m\u001b[39m1\u001b[39m, bin_idx)[\u001b[39m.\u001b[39m\u001b[39m.\u001b[39m\u001b[39m.\u001b[39m, \u001b[39m0\u001b[39m]\n\u001b[1;32m    123\u001b[0m input_heights \u001b[39m=\u001b[39m heights\u001b[39m.\u001b[39mgather(\u001b[39m-\u001b[39m\u001b[39m1\u001b[39m, bin_idx)[\u001b[39m.\u001b[39m\u001b[39m.\u001b[39m\u001b[39m.\u001b[39m, \u001b[39m0\u001b[39m]\n\u001b[1;32m    125\u001b[0m \u001b[39mif\u001b[39;00m inverse:\n",
      "\u001b[0;31mKeyboardInterrupt\u001b[0m: "
     ]
    }
   ],
   "source": [
    "# train\n",
    "valloss_list=[]\n",
    "optimizer = torch.optim.Adam(model.parameters(),lr=1e-4) #,lr=1e-4)#, lr=1e-4)\n",
    "\n",
    "for epoch in range(2):\n",
    "    print('\\n Epoch: {}'.format(epoch))\n",
    "    train(model,optimizer,trainloader,noise_data=0.,noise_context=0.0)\n",
    "    valloss=val(model,valloader)\n",
    "    print('epoch '+str(epoch)+' val loss: ',valloss)\n",
    "#    torch.save(model.state_dict(),\"babydataset_fLDeltaf0.01_epoch_\"+str(epoch)+\"_Model.par\")\n",
    "    valloss_list.append(valloss)\n",
    "    \n",
    "    \n",
    "\n",
    " \n",
    "\n"
   ]
  },
  {
   "cell_type": "code",
   "execution_count": 19,
   "metadata": {},
   "outputs": [
    {
     "data": {
      "image/png": "[encoded data removed]",
      "text/plain": [
       "<Figure size 640x480 with 1 Axes>"
      ]
     },
     "metadata": {},
     "output_type": "display_data"
    }
   ],
   "source": [
    "plt.plot(valloss_list)\n",
    "plt.show()"
   ]
  },
  {
   "cell_type": "code",
   "execution_count": 14,
   "metadata": {},
   "outputs": [],
   "source": [
    "model.eval()\n",
    "with torch.no_grad():\n",
    "    samples=model.sample(50000)\n",
    "samples=samples.cpu().detach().numpy().reshape((-1))"
   ]
  },
  {
   "cell_type": "code",
   "execution_count": 17,
   "metadata": {},
   "outputs": [
    {
     "data": {
      "image/png": "[encoded data removed]",
      "text/plain": [
       "<Figure size 640x480 with 1 Axes>"
      ]
     },
     "metadata": {},
     "output_type": "display_data"
    }
   ],
   "source": [
    "_=plt.hist(samples,bins=50, density=True, alpha=0.5, histtype='step', label='nflow')\n",
    "_=plt.hist(SRdata,bins=50, density=True, alpha=0.5, histtype='step', label='data')\n",
    "plt.legend(loc='upper right')\n",
    "plt.show()"
   ]
  },
  {
   "cell_type": "code",
   "execution_count": null,
   "metadata": {},
   "outputs": [],
   "source": []
  }
 ],
 "metadata": {
  "kernelspec": {
   "display_name": "Python 3",
   "language": "python",
   "name": "python3"
  },
  "language_info": {
   "codemirror_mode": {
    "name": "ipython",
    "version": 3
   },
   "file_extension": ".py",
   "mimetype": "text/x-python",
   "name": "python",
   "nbconvert_exporter": "python",
   "pygments_lexer": "ipython3",
   "version": "3.8.16"
  }
 },
 "nbformat": 4,
 "nbformat_minor": 2
}
