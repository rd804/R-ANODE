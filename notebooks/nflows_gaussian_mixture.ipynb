{
 "cells": [
  {
   "cell_type": "code",
   "execution_count": 25,
   "metadata": {},
   "outputs": [],
   "source": [
    "import numpy as np\n",
    "import matplotlib.pyplot as plt\n",
    "from tqdm.notebook import tqdm\n",
    "from src.nflow_utils import *\n",
    "import os\n",
    "from src.utils import *"
   ]
  },
  {
   "cell_type": "code",
   "execution_count": 1,
   "metadata": {},
   "outputs": [],
   "source": [
    "from nflows import transforms, distributions, flows\n",
    "import torch\n",
    "import torch.nn.functional as F\n",
    "from nflows.distributions import uniform\n",
    "from sklearn.utils import shuffle\n",
    "# import train_test_split\n",
    "from sklearn.model_selection import train_test_split"
   ]
  },
  {
   "cell_type": "code",
   "execution_count": 3,
   "metadata": {},
   "outputs": [],
   "source": [
    "import pickle"
   ]
  },
  {
   "cell_type": "code",
   "execution_count": 4,
   "metadata": {},
   "outputs": [],
   "source": [
    "#os.environ[\"CUDA_VISIBLE_DEVICES\"]='2'\n",
    "\n",
    "\n",
    "CUDA = True\n",
    "device = torch.device(\"cuda:0\" if CUDA else \"cpu\")\n",
    "\n",
    "kwargs = {'num_workers': 4, 'pin_memory': True} if CUDA else {}\n",
    "kwargs = {}\n"
   ]
  },
  {
   "cell_type": "code",
   "execution_count": 5,
   "metadata": {},
   "outputs": [
    {
     "name": "stdout",
     "output_type": "stream",
     "text": [
      "/home/rd804/m-anode\n"
     ]
    }
   ],
   "source": [
    "cd .."
   ]
  },
  {
   "cell_type": "code",
   "execution_count": 35,
   "metadata": {},
   "outputs": [
    {
     "name": "stdout",
     "output_type": "stream",
     "text": [
      "[0. 0. 0. ... 1. 1. 1.]\n"
     ]
    }
   ],
   "source": [
    "with open('data/data.pkl', 'rb') as f:\n",
    "    data = pickle.load(f)\n",
    "\n",
    "back_mean = 0\n",
    "sig_mean = 3\n",
    "sig_simga = 0.5\n",
    "back_sigma = 3\n",
    "\n",
    "with open('results/true_w.pkl', 'rb') as f:\n",
    "    true_w = pickle.load(f)\n",
    "\n",
    "with open('data/background.pkl', 'rb') as f:\n",
    "    background = pickle.load(f)\n",
    "\n",
    "\n",
    "# fit train data\n",
    "best_parameters = {}\n",
    "run = 0\n",
    "\n",
    "sig_train = 10\n",
    "\n",
    "best_parameters[str(sig_train)] = {}\n",
    "x_train = data[str(sig_train)]['train']['data']\n",
    "x_train = shuffle(x_train, random_state=10)\n",
    "\n",
    "x_train , x_val = train_test_split(x_train, test_size=0.5, random_state=22)\n",
    "x_test = data[str(sig_train)]['val']['data']\n",
    "label_test = data[str(sig_train)]['val']['label']\n",
    "print(label_test)"
   ]
  },
  {
   "cell_type": "code",
   "execution_count": 7,
   "metadata": {},
   "outputs": [
    {
     "data": {
      "image/png": "[encoded data removed]",
      "text/plain": [
       "<Figure size 640x480 with 1 Axes>"
      ]
     },
     "metadata": {},
     "output_type": "display_data"
    }
   ],
   "source": [
    "plt.hist(x_train, bins=100, alpha=0.5, label='train', density=True, histtype='step')\n",
    "plt.hist(x_val, bins=100, alpha=0.5, label='val', density=True, histtype='step')\n",
    "plt.show()"
   ]
  },
  {
   "cell_type": "code",
   "execution_count": 30,
   "metadata": {},
   "outputs": [],
   "source": [
    "traintensor = torch.from_numpy(x_train.astype('float32').reshape((-1,1)))\n",
    "#traindataset = torch.utils.data.TensorDataset(traintensor)\n",
    "\n",
    "valtensor = torch.from_numpy(x_val.astype('float32').reshape((-1,1)))\n",
    "#valdataset = torch.utils.data.TensorDataset(valtensor)\n",
    "\n",
    "testtensor = torch.from_numpy(x_test.astype('float32').reshape((-1,1)))"
   ]
  },
  {
   "cell_type": "code",
   "execution_count": 28,
   "metadata": {},
   "outputs": [],
   "source": [
    "# Use the standard pytorch DataLoader\n",
    "batch_size = 256\n",
    "#batch_size = 256\n",
    "trainloader = torch.utils.data.DataLoader(traintensor, batch_size=batch_size, shuffle=True)\n",
    "\n",
    "test_batch_size=batch_size*5\n",
    "valloader = torch.utils.data.DataLoader(valtensor, batch_size=test_batch_size, shuffle=False)\n",
    "testloader = torch.utils.data.DataLoader(testtensor, batch_size=test_batch_size, shuffle=False)\n"
   ]
  },
  {
   "cell_type": "code",
   "execution_count": 29,
   "metadata": {},
   "outputs": [],
   "source": [
    "model=define_model(nfeatures=1,nhidden=2,hidden_size=20,embedding=None,dropout=0,nembedding=0)"
   ]
  },
  {
   "cell_type": "code",
   "execution_count": 31,
   "metadata": {},
   "outputs": [
    {
     "name": "stdout",
     "output_type": "stream",
     "text": [
      "\n",
      " Epoch: 0\n",
      "epoch 0 val loss:  2.634138476172777\n",
      "\n",
      " Epoch: 1\n",
      "epoch 1 val loss:  2.597179259262882\n",
      "\n",
      " Epoch: 2\n",
      "epoch 2 val loss:  2.589275059665871\n",
      "\n",
      " Epoch: 3\n",
      "epoch 3 val loss:  2.5854429335067883\n",
      "\n",
      " Epoch: 4\n",
      "epoch 4 val loss:  2.583252230134199\n",
      "\n",
      " Epoch: 5\n",
      "epoch 5 val loss:  2.5808918825071405\n",
      "\n",
      " Epoch: 6\n",
      "epoch 6 val loss:  2.5797667284518173\n",
      "\n",
      " Epoch: 7\n",
      "epoch 7 val loss:  2.5795072185922767\n",
      "\n",
      " Epoch: 8\n",
      "epoch 8 val loss:  2.579719350326695\n",
      "\n",
      " Epoch: 9\n",
      "epoch 9 val loss:  2.577992646914981\n",
      "\n",
      " Epoch: 10\n",
      "epoch 10 val loss:  2.575816004147267\n",
      "\n",
      " Epoch: 11\n",
      "epoch 11 val loss:  2.5757958302359247\n",
      "\n",
      " Epoch: 12\n",
      "epoch 12 val loss:  2.5798529260730074\n",
      "\n",
      " Epoch: 13\n",
      "epoch 13 val loss:  2.5755525206385226\n",
      "\n",
      " Epoch: 14\n",
      "epoch 14 val loss:  2.575637801263743\n",
      "\n",
      " Epoch: 15\n",
      "epoch 15 val loss:  2.573830096541336\n",
      "\n",
      " Epoch: 16\n",
      "epoch 16 val loss:  2.5733826025079227\n",
      "\n",
      " Epoch: 17\n",
      "epoch 17 val loss:  2.5739920991627216\n",
      "\n",
      " Epoch: 18\n",
      "epoch 18 val loss:  2.5744108606557377\n",
      "\n",
      " Epoch: 19\n",
      "epoch 19 val loss:  2.57482656549552\n",
      "\n",
      " Epoch: 20\n",
      "epoch 20 val loss:  2.572403862142494\n",
      "\n",
      " Epoch: 21\n",
      "epoch 21 val loss:  2.57632157459212\n",
      "\n",
      " Epoch: 22\n",
      "epoch 22 val loss:  2.571697163914864\n",
      "\n",
      " Epoch: 23\n",
      "epoch 23 val loss:  2.5728617487969014\n",
      "\n",
      " Epoch: 24\n",
      "epoch 24 val loss:  2.5732267131930042\n",
      "\n",
      " Epoch: 25\n",
      "epoch 25 val loss:  2.5714223707891546\n",
      "\n",
      " Epoch: 26\n",
      "epoch 26 val loss:  2.5717121415157087\n",
      "\n",
      " Epoch: 27\n",
      "epoch 27 val loss:  2.572984014926249\n",
      "\n",
      " Epoch: 28\n",
      "epoch 28 val loss:  2.5721825604483746\n",
      "\n",
      " Epoch: 29\n",
      "epoch 29 val loss:  2.571409532845573\n",
      "\n",
      " Epoch: 30\n",
      "epoch 30 val loss:  2.5712765684299073\n",
      "\n",
      " Epoch: 31\n",
      "epoch 31 val loss:  2.5718212640361515\n",
      "\n",
      " Epoch: 32\n",
      "epoch 32 val loss:  2.5716672087131736\n",
      "\n",
      " Epoch: 33\n",
      "epoch 33 val loss:  2.5712618964943856\n",
      "\n",
      " Epoch: 34\n",
      "epoch 34 val loss:  2.573397580108768\n",
      "\n",
      " Epoch: 35\n",
      "epoch 35 val loss:  2.571176310203842\n",
      "\n",
      " Epoch: 36\n",
      "epoch 36 val loss:  2.570810428811769\n",
      "\n",
      " Epoch: 37\n",
      "epoch 37 val loss:  2.570910687037834\n",
      "\n",
      " Epoch: 38\n",
      "epoch 38 val loss:  2.5714324577448258\n",
      "\n",
      " Epoch: 39\n",
      "epoch 39 val loss:  2.5716959412535703\n",
      "\n",
      " Epoch: 40\n",
      "epoch 40 val loss:  2.5708189874408234\n",
      "\n",
      " Epoch: 41\n",
      "epoch 41 val loss:  2.5707599940334127\n",
      "\n",
      " Epoch: 42\n",
      "epoch 42 val loss:  2.572000995246293\n",
      "\n",
      " Epoch: 43\n",
      "epoch 43 val loss:  2.5706328372588914\n",
      "\n",
      " Epoch: 44\n",
      "epoch 44 val loss:  2.570657290484761\n",
      "\n",
      " Epoch: 45\n",
      "epoch 45 val loss:  2.5709149663523614\n",
      "\n",
      " Epoch: 46\n",
      "epoch 46 val loss:  2.5708440519973395\n",
      "\n",
      " Epoch: 47\n",
      "epoch 47 val loss:  2.5717527950037167\n",
      "\n",
      " Epoch: 48\n",
      "epoch 48 val loss:  2.570704057279236\n",
      "\n",
      " Epoch: 49\n",
      "epoch 49 val loss:  2.570561311573223\n",
      "\n",
      " Epoch: 50\n",
      "epoch 50 val loss:  2.5712637304863257\n",
      "\n",
      " Epoch: 51\n",
      "epoch 51 val loss:  2.571209933389413\n",
      "\n",
      " Epoch: 52\n",
      "epoch 52 val loss:  2.571797422140929\n",
      "\n",
      " Epoch: 53\n",
      "epoch 53 val loss:  2.5712224656676708\n",
      "\n",
      " Epoch: 54\n",
      "epoch 54 val loss:  2.5707404314527174\n",
      "\n",
      " Epoch: 55\n",
      "epoch 55 val loss:  2.5725090110137327\n",
      "\n",
      " Epoch: 56\n",
      "epoch 56 val loss:  2.5721547449039477\n",
      "\n",
      " Epoch: 57\n",
      "epoch 57 val loss:  2.5706502601823233\n",
      "\n",
      " Epoch: 58\n",
      "epoch 58 val loss:  2.573519234907469\n",
      "\n",
      " Epoch: 59\n",
      "epoch 59 val loss:  2.570550001956258\n",
      "\n",
      " Epoch: 60\n",
      "epoch 60 val loss:  2.5705759835087445\n",
      "\n",
      " Epoch: 61\n",
      "epoch 61 val loss:  2.5715076514143744\n",
      "\n",
      " Epoch: 62\n",
      "epoch 62 val loss:  2.5709632614734534\n",
      "\n",
      " Epoch: 63\n",
      "epoch 63 val loss:  2.5712732061113504\n",
      "\n",
      " Epoch: 64\n",
      "epoch 64 val loss:  2.5705072088109864\n",
      "\n",
      " Epoch: 65\n",
      "epoch 65 val loss:  2.57045494004069\n",
      "\n",
      " Epoch: 66\n",
      "epoch 66 val loss:  2.5704891745569074\n",
      "\n",
      " Epoch: 67\n",
      "epoch 67 val loss:  2.5716225815759617\n",
      "\n",
      " Epoch: 68\n",
      "epoch 68 val loss:  2.5711732535506084\n",
      "\n",
      " Epoch: 69\n",
      "epoch 69 val loss:  2.5713832456277634\n",
      "\n",
      " Epoch: 70\n",
      "epoch 70 val loss:  2.5722819016784695\n",
      "\n",
      " Epoch: 71\n",
      "epoch 71 val loss:  2.5711203734496655\n",
      "\n",
      " Epoch: 72\n",
      "epoch 72 val loss:  2.570930555283853\n",
      "\n",
      " Epoch: 73\n",
      "epoch 73 val loss:  2.570783224597989\n",
      "\n",
      " Epoch: 74\n",
      "epoch 74 val loss:  2.571041511796236\n",
      "\n",
      " Epoch: 75\n",
      "epoch 75 val loss:  2.570537469678\n",
      "\n",
      " Epoch: 76\n",
      "epoch 76 val loss:  2.5704029769357173\n",
      "\n",
      " Epoch: 77\n",
      "epoch 77 val loss:  2.572639224441488\n",
      "\n",
      " Epoch: 78\n",
      "epoch 78 val loss:  2.5708183761101764\n",
      "\n",
      " Epoch: 79\n",
      "epoch 79 val loss:  2.57068082671466\n",
      "\n",
      " Epoch: 80\n",
      "epoch 80 val loss:  2.5718591665362496\n",
      "\n",
      " Epoch: 81\n",
      "epoch 81 val loss:  2.57101919822763\n",
      "\n",
      " Epoch: 82\n",
      "epoch 82 val loss:  2.5725420228686566\n",
      "\n",
      " Epoch: 83\n",
      "epoch 83 val loss:  2.571303466978364\n",
      "\n",
      " Epoch: 84\n",
      "epoch 84 val loss:  2.57121696369185\n",
      "\n",
      " Epoch: 85\n",
      "epoch 85 val loss:  2.5709595934895733\n",
      "\n",
      " Epoch: 86\n",
      "epoch 86 val loss:  2.573291514241559\n",
      "\n",
      " Epoch: 87\n",
      "epoch 87 val loss:  2.57093483459838\n",
      "\n",
      " Epoch: 88\n",
      "epoch 88 val loss:  2.57070436294456\n",
      "\n",
      " Epoch: 89\n",
      "epoch 89 val loss:  2.5708018701827147\n",
      "\n",
      " Epoch: 90\n",
      "epoch 90 val loss:  2.570833659376345\n",
      "\n",
      " Epoch: 91\n",
      "epoch 91 val loss:  2.5738502704526782\n",
      "\n",
      " Epoch: 92\n",
      "epoch 92 val loss:  2.5710424287922065\n",
      "\n",
      " Epoch: 93\n",
      "epoch 93 val loss:  2.5711503286513557\n",
      "\n",
      " Epoch: 94\n"
     ]
    },
    {
     "ename": "KeyboardInterrupt",
     "evalue": "",
     "output_type": "error",
     "traceback": [
      "\u001b[0;31m---------------------------------------------------------------------------\u001b[0m",
      "\u001b[0;31mKeyboardInterrupt\u001b[0m                         Traceback (most recent call last)",
      "Cell \u001b[0;32mIn[31], line 10\u001b[0m\n\u001b[1;32m      8\u001b[0m \u001b[39mfor\u001b[39;00m epoch \u001b[39min\u001b[39;00m \u001b[39mrange\u001b[39m(\u001b[39m100\u001b[39m):\n\u001b[1;32m      9\u001b[0m     \u001b[39mprint\u001b[39m(\u001b[39m'\u001b[39m\u001b[39m\\n\u001b[39;00m\u001b[39m Epoch: \u001b[39m\u001b[39m{}\u001b[39;00m\u001b[39m'\u001b[39m\u001b[39m.\u001b[39mformat(epoch))\n\u001b[0;32m---> 10\u001b[0m     train(model,optimizer,trainloader,noise_data\u001b[39m=\u001b[39;49m\u001b[39m0.\u001b[39;49m,noise_context\u001b[39m=\u001b[39;49m\u001b[39m0.0\u001b[39;49m)\n\u001b[1;32m     11\u001b[0m     valloss\u001b[39m=\u001b[39mval(model,valloader)\n\u001b[1;32m     12\u001b[0m     \u001b[39mprint\u001b[39m(\u001b[39m'\u001b[39m\u001b[39mepoch \u001b[39m\u001b[39m'\u001b[39m\u001b[39m+\u001b[39m\u001b[39mstr\u001b[39m(epoch)\u001b[39m+\u001b[39m\u001b[39m'\u001b[39m\u001b[39m val loss: \u001b[39m\u001b[39m'\u001b[39m,valloss)\n",
      "File \u001b[0;32m~/m-anode/src/nflow_utils.py:86\u001b[0m, in \u001b[0;36mtrain\u001b[0;34m(model, optimizer, train_loader, noise_data, noise_context)\u001b[0m\n\u001b[1;32m     84\u001b[0m         loss \u001b[39m=\u001b[39m \u001b[39m-\u001b[39mmodel\u001b[39m.\u001b[39mlog_prob(data)\u001b[39m.\u001b[39mmean()\n\u001b[1;32m     85\u001b[0m         train_loss \u001b[39m+\u001b[39m\u001b[39m=\u001b[39m loss\u001b[39m.\u001b[39mitem()\n\u001b[0;32m---> 86\u001b[0m         loss\u001b[39m.\u001b[39;49mbackward()\n\u001b[1;32m     89\u001b[0m \u001b[39m#        torch.nn.utils.clip_grad_norm_(model.parameters(), 0.01)\u001b[39;00m\n\u001b[1;32m     91\u001b[0m         optimizer\u001b[39m.\u001b[39mstep()\n",
      "File \u001b[0;32m~/.conda/envs/manode/lib/python3.9/site-packages/torch/_tensor.py:487\u001b[0m, in \u001b[0;36mTensor.backward\u001b[0;34m(self, gradient, retain_graph, create_graph, inputs)\u001b[0m\n\u001b[1;32m    477\u001b[0m \u001b[39mif\u001b[39;00m has_torch_function_unary(\u001b[39mself\u001b[39m):\n\u001b[1;32m    478\u001b[0m     \u001b[39mreturn\u001b[39;00m handle_torch_function(\n\u001b[1;32m    479\u001b[0m         Tensor\u001b[39m.\u001b[39mbackward,\n\u001b[1;32m    480\u001b[0m         (\u001b[39mself\u001b[39m,),\n\u001b[0;32m   (...)\u001b[0m\n\u001b[1;32m    485\u001b[0m         inputs\u001b[39m=\u001b[39minputs,\n\u001b[1;32m    486\u001b[0m     )\n\u001b[0;32m--> 487\u001b[0m torch\u001b[39m.\u001b[39;49mautograd\u001b[39m.\u001b[39;49mbackward(\n\u001b[1;32m    488\u001b[0m     \u001b[39mself\u001b[39;49m, gradient, retain_graph, create_graph, inputs\u001b[39m=\u001b[39;49minputs\n\u001b[1;32m    489\u001b[0m )\n",
      "File \u001b[0;32m~/.conda/envs/manode/lib/python3.9/site-packages/torch/autograd/__init__.py:200\u001b[0m, in \u001b[0;36mbackward\u001b[0;34m(tensors, grad_tensors, retain_graph, create_graph, grad_variables, inputs)\u001b[0m\n\u001b[1;32m    195\u001b[0m     retain_graph \u001b[39m=\u001b[39m create_graph\n\u001b[1;32m    197\u001b[0m \u001b[39m# The reason we repeat same the comment below is that\u001b[39;00m\n\u001b[1;32m    198\u001b[0m \u001b[39m# some Python versions print out the first line of a multi-line function\u001b[39;00m\n\u001b[1;32m    199\u001b[0m \u001b[39m# calls in the traceback and some print out the last line\u001b[39;00m\n\u001b[0;32m--> 200\u001b[0m Variable\u001b[39m.\u001b[39;49m_execution_engine\u001b[39m.\u001b[39;49mrun_backward(  \u001b[39m# Calls into the C++ engine to run the backward pass\u001b[39;49;00m\n\u001b[1;32m    201\u001b[0m     tensors, grad_tensors_, retain_graph, create_graph, inputs,\n\u001b[1;32m    202\u001b[0m     allow_unreachable\u001b[39m=\u001b[39;49m\u001b[39mTrue\u001b[39;49;00m, accumulate_grad\u001b[39m=\u001b[39;49m\u001b[39mTrue\u001b[39;49;00m)\n",
      "\u001b[0;31mKeyboardInterrupt\u001b[0m: "
     ]
    }
   ],
   "source": [
    "# train\n",
    "if not os.path.exists('models/model_'+str(sig_train)):\n",
    "    os.makedirs('models/model_'+str(sig_train))\n",
    "\n",
    "valloss_list=[]\n",
    "optimizer = torch.optim.Adam(model.parameters(),lr=1e-4) #,lr=1e-4)#, lr=1e-4)\n",
    "\n",
    "for epoch in range(100):\n",
    "    print('\\n Epoch: {}'.format(epoch))\n",
    "    train(model,optimizer,trainloader,noise_data=0.,noise_context=0.0)\n",
    "    valloss=val(model,valloader)\n",
    "    print('epoch '+str(epoch)+' val loss: ',valloss)\n",
    "    # save model each epoch\n",
    "    torch.save(model.state_dict(), 'models/model_'+str(sig_train)+'/model_SR_'+str(epoch)+'.pt')\n",
    "\n",
    "    valloss_list.append(valloss)\n"
   ]
  },
  {
   "cell_type": "code",
   "execution_count": 40,
   "metadata": {},
   "outputs": [
    {
     "name": "stdout",
     "output_type": "stream",
     "text": [
      "min epoch:  76\n"
     ]
    }
   ],
   "source": [
    "valloss_list=np.array(valloss_list)\n",
    "min_epoch=np.argmin(valloss_list)\n",
    "print('min epoch: ',min_epoch)"
   ]
  },
  {
   "cell_type": "code",
   "execution_count": 43,
   "metadata": {},
   "outputs": [
    {
     "data": {
      "image/png": "[encoded data removed]",
      "text/plain": [
       "<Figure size 640x480 with 1 Axes>"
      ]
     },
     "metadata": {},
     "output_type": "display_data"
    }
   ],
   "source": [
    "plt.plot(valloss_list)\n",
    "plt.show()"
   ]
  },
  {
   "cell_type": "code",
   "execution_count": 41,
   "metadata": {},
   "outputs": [],
   "source": [
    "model.load_state_dict(torch.load('models/model_'+str(sig_train)+'/model_SR_'+str(min_epoch)+'.pt'))\n",
    "model.eval()\n",
    "with torch.no_grad():\n",
    "    samples=model.sample(50000)\n",
    "samples=samples.cpu().detach().numpy().reshape((-1))"
   ]
  },
  {
   "cell_type": "code",
   "execution_count": 42,
   "metadata": {},
   "outputs": [
    {
     "data": {
      "image/png": "[encoded data removed]",
      "text/plain": [
       "<Figure size 640x480 with 1 Axes>"
      ]
     },
     "metadata": {},
     "output_type": "display_data"
    }
   ],
   "source": [
    "_=plt.hist(samples,bins=50, density=True, alpha=0.5, histtype='step', label='nflow')\n",
    "_=plt.hist(x_val,bins=50, density=True, alpha=0.5, histtype='step', label='data')\n",
    "plt.legend(loc='upper right')\n",
    "plt.show()"
   ]
  },
  {
   "cell_type": "code",
   "execution_count": 39,
   "metadata": {},
   "outputs": [
    {
     "name": "stdout",
     "output_type": "stream",
     "text": [
      "min epoch:  76\n"
     ]
    }
   ],
   "source": [
    "valloss_list=np.array(valloss_list)\n",
    "min_epoch=np.argmin(valloss_list)\n",
    "print('min epoch: ',min_epoch)"
   ]
  },
  {
   "cell_type": "code",
   "execution_count": null,
   "metadata": {},
   "outputs": [],
   "source": []
  },
  {
   "cell_type": "code",
   "execution_count": 13,
   "metadata": {},
   "outputs": [],
   "source": [
    "background_train , background_val = train_test_split(background, test_size=0.5, random_state=22)"
   ]
  },
  {
   "cell_type": "code",
   "execution_count": 45,
   "metadata": {},
   "outputs": [],
   "source": [
    "background_train_tensor = torch.from_numpy(background_train.astype('float32').reshape((-1,1)))\n",
    "background_val_tensor = torch.from_numpy(background_val.astype('float32').reshape((-1,1)))"
   ]
  },
  {
   "cell_type": "code",
   "execution_count": null,
   "metadata": {},
   "outputs": [],
   "source": []
  },
  {
   "cell_type": "code",
   "execution_count": 46,
   "metadata": {},
   "outputs": [],
   "source": [
    "batch_size = 256\n",
    "background_train_loader = torch.utils.data.DataLoader(background_train_tensor, batch_size=batch_size, shuffle=True)\n",
    "background_val_loader = torch.utils.data.DataLoader(background_val_tensor, batch_size=batch_size*6, shuffle=False)\n"
   ]
  },
  {
   "cell_type": "code",
   "execution_count": 47,
   "metadata": {},
   "outputs": [],
   "source": [
    "model_background=define_model(nfeatures=1,nhidden=2,hidden_size=20,embedding=None,dropout=0,nembedding=0)"
   ]
  },
  {
   "cell_type": "code",
   "execution_count": 48,
   "metadata": {},
   "outputs": [
    {
     "name": "stdout",
     "output_type": "stream",
     "text": [
      "\n",
      " Epoch: 0\n",
      "\n",
      " Epoch: 1\n",
      "\n",
      " Epoch: 2\n",
      "\n",
      " Epoch: 3\n",
      "\n",
      " Epoch: 4\n",
      "\n",
      " Epoch: 5\n",
      "\n",
      " Epoch: 6\n",
      "\n",
      " Epoch: 7\n",
      "\n",
      " Epoch: 8\n",
      "\n",
      " Epoch: 9\n",
      "\n",
      " Epoch: 10\n",
      "\n",
      " Epoch: 11\n",
      "\n",
      " Epoch: 12\n",
      "\n",
      " Epoch: 13\n",
      "\n",
      " Epoch: 14\n",
      "\n",
      " Epoch: 15\n",
      "\n",
      " Epoch: 16\n",
      "\n",
      " Epoch: 17\n",
      "\n",
      " Epoch: 18\n",
      "\n",
      " Epoch: 19\n",
      "\n",
      " Epoch: 20\n",
      "\n",
      " Epoch: 21\n",
      "\n",
      " Epoch: 22\n",
      "\n",
      " Epoch: 23\n",
      "\n",
      " Epoch: 24\n",
      "\n",
      " Epoch: 25\n",
      "\n",
      " Epoch: 26\n",
      "\n",
      " Epoch: 27\n",
      "\n",
      " Epoch: 28\n",
      "\n",
      " Epoch: 29\n",
      "\n",
      " Epoch: 30\n",
      "\n",
      " Epoch: 31\n",
      "\n",
      " Epoch: 32\n",
      "\n",
      " Epoch: 33\n",
      "\n",
      " Epoch: 34\n",
      "\n",
      " Epoch: 35\n",
      "\n",
      " Epoch: 36\n",
      "\n",
      " Epoch: 37\n",
      "\n",
      " Epoch: 38\n",
      "\n",
      " Epoch: 39\n",
      "\n",
      " Epoch: 40\n",
      "\n",
      " Epoch: 41\n",
      "\n",
      " Epoch: 42\n",
      "\n",
      " Epoch: 43\n",
      "\n",
      " Epoch: 44\n",
      "\n",
      " Epoch: 45\n",
      "\n",
      " Epoch: 46\n",
      "\n",
      " Epoch: 47\n",
      "\n",
      " Epoch: 48\n",
      "\n",
      " Epoch: 49\n",
      "\n",
      " Epoch: 50\n",
      "\n",
      " Epoch: 51\n",
      "\n",
      " Epoch: 52\n",
      "\n",
      " Epoch: 53\n",
      "\n",
      " Epoch: 54\n",
      "\n",
      " Epoch: 55\n",
      "\n",
      " Epoch: 56\n",
      "\n",
      " Epoch: 57\n",
      "\n",
      " Epoch: 58\n",
      "\n",
      " Epoch: 59\n",
      "\n",
      " Epoch: 60\n",
      "\n",
      " Epoch: 61\n",
      "\n",
      " Epoch: 62\n",
      "\n",
      " Epoch: 63\n",
      "\n",
      " Epoch: 64\n",
      "\n",
      " Epoch: 65\n",
      "\n",
      " Epoch: 66\n",
      "\n",
      " Epoch: 67\n",
      "\n",
      " Epoch: 68\n",
      "\n",
      " Epoch: 69\n",
      "\n",
      " Epoch: 70\n",
      "\n",
      " Epoch: 71\n",
      "\n",
      " Epoch: 72\n",
      "\n",
      " Epoch: 73\n",
      "\n",
      " Epoch: 74\n",
      "\n",
      " Epoch: 75\n",
      "\n",
      " Epoch: 76\n",
      "\n",
      " Epoch: 77\n",
      "\n",
      " Epoch: 78\n",
      "\n",
      " Epoch: 79\n",
      "\n",
      " Epoch: 80\n",
      "\n",
      " Epoch: 81\n",
      "\n",
      " Epoch: 82\n",
      "\n",
      " Epoch: 83\n",
      "\n",
      " Epoch: 84\n",
      "\n",
      " Epoch: 85\n",
      "\n",
      " Epoch: 86\n",
      "\n",
      " Epoch: 87\n",
      "\n",
      " Epoch: 88\n",
      "\n",
      " Epoch: 89\n",
      "\n",
      " Epoch: 90\n",
      "\n",
      " Epoch: 91\n",
      "\n",
      " Epoch: 92\n",
      "\n",
      " Epoch: 93\n",
      "\n",
      " Epoch: 94\n",
      "\n",
      " Epoch: 95\n",
      "\n",
      " Epoch: 96\n",
      "\n",
      " Epoch: 97\n",
      "\n",
      " Epoch: 98\n",
      "\n",
      " Epoch: 99\n",
      "done\n"
     ]
    }
   ],
   "source": [
    "# train\n",
    "if not os.path.exists('models/model_'+str(sig_train)):\n",
    "    os.makedirs('models/model_'+str(sig_train))\n",
    "\n",
    "valloss_list_background=[]\n",
    "optimizer = torch.optim.Adam(model_background.parameters(),lr=1e-4) #,lr=1e-4)#, lr=1e-4)\n",
    "\n",
    "for epoch in range(100):\n",
    "    print('\\n Epoch: {}'.format(epoch))\n",
    "    train(model_background,optimizer,background_train_loader ,noise_data=0.,noise_context=0.0)\n",
    "    valloss=val(model_background,background_val_loader)\n",
    "   # print('epoch '+str(epoch)+' val loss: ',valloss)\n",
    "    # save model each epoch\n",
    "    torch.save(model_background.state_dict(), 'models/model_'+str(sig_train)+'/model_CR_'+str(epoch)+'.pt')\n",
    "\n",
    "    valloss_list_background.append(valloss)\n",
    "print('done')\n"
   ]
  },
  {
   "cell_type": "code",
   "execution_count": 49,
   "metadata": {},
   "outputs": [
    {
     "name": "stdout",
     "output_type": "stream",
     "text": [
      "min epoch:  98\n"
     ]
    }
   ],
   "source": [
    "valloss_list_background=np.array(valloss_list_background)\n",
    "min_epoch=np.argmin(valloss_list_background)\n",
    "print('min epoch: ',min_epoch)"
   ]
  },
  {
   "cell_type": "code",
   "execution_count": 50,
   "metadata": {},
   "outputs": [
    {
     "data": {
      "image/png": "[encoded data removed]",
      "text/plain": [
       "<Figure size 640x480 with 1 Axes>"
      ]
     },
     "metadata": {},
     "output_type": "display_data"
    }
   ],
   "source": [
    "plt.plot(valloss_list_background)\n",
    "plt.show()"
   ]
  },
  {
   "cell_type": "code",
   "execution_count": null,
   "metadata": {},
   "outputs": [],
   "source": []
  },
  {
   "cell_type": "code",
   "execution_count": 39,
   "metadata": {},
   "outputs": [
    {
     "data": {
      "text/plain": [
       "<All keys matched successfully>"
      ]
     },
     "execution_count": 39,
     "metadata": {},
     "output_type": "execute_result"
    }
   ],
   "source": [
    "min_epoch = 90\n",
    "\n",
    "model_SR =define_model(nfeatures=1,nhidden=2,hidden_size=20,embedding=None,dropout=0,nembedding=0)\n",
    "model_SR.load_state_dict(torch.load('models/model_'+str(sig_train)+'/model_SR_'+str(min_epoch)+'.pt'))\n"
   ]
  },
  {
   "cell_type": "code",
   "execution_count": 11,
   "metadata": {},
   "outputs": [
    {
     "data": {
      "text/plain": [
       "<All keys matched successfully>"
      ]
     },
     "execution_count": 11,
     "metadata": {},
     "output_type": "execute_result"
    }
   ],
   "source": [
    "min_epoch = 98\n",
    "\n",
    "model_CR =define_model(nfeatures=1,nhidden=2,hidden_size=20,embedding=None,dropout=0,nembedding=0)\n",
    "model_CR.load_state_dict(torch.load('models/model_'+str(sig_train)+'/model_CR_'+str(min_epoch)+'.pt'))\n"
   ]
  },
  {
   "cell_type": "code",
   "execution_count": 14,
   "metadata": {},
   "outputs": [
    {
     "data": {
      "image/png": "[encoded data removed]",
      "text/plain": [
       "<Figure size 640x480 with 1 Axes>"
      ]
     },
     "metadata": {},
     "output_type": "display_data"
    }
   ],
   "source": [
    "model_CR.eval()\n",
    "with torch.no_grad():\n",
    "    samples=model_CR.sample(50000)\n",
    "samples=samples.cpu().detach().numpy().reshape((-1))\n",
    "\n",
    "_=plt.hist(samples,bins=50, density=True, alpha=0.5, histtype='step', label='nflow')\n",
    "_=plt.hist(background_val,bins=50, density=True, alpha=0.5, histtype='step', label='data')\n",
    "plt.legend(loc='upper right')\n",
    "plt.show()"
   ]
  },
  {
   "cell_type": "code",
   "execution_count": 22,
   "metadata": {},
   "outputs": [
    {
     "data": {
      "image/png": "[encoded data removed]",
      "text/plain": [
       "<Figure size 640x480 with 1 Axes>"
      ]
     },
     "metadata": {},
     "output_type": "display_data"
    }
   ],
   "source": [
    "model_SR.eval()\n",
    "with torch.no_grad():\n",
    "    samples=model_SR.sample(100000)\n",
    "samples=samples.cpu().detach().numpy().reshape((-1))\n",
    "\n",
    "_=plt.hist(samples,bins=50, density=True, alpha=0.5, histtype='step', label='nflow')\n",
    "_=plt.hist(x_val,bins=50, density=True, alpha=0.5, histtype='step', label='data')\n",
    "plt.legend(loc='upper right')\n",
    "plt.show()"
   ]
  },
  {
   "cell_type": "code",
   "execution_count": 40,
   "metadata": {},
   "outputs": [],
   "source": [
    "true_likelihoods = {}\n",
    "\n",
    "true_likelihoods[str(sig_train)] = {}\n",
    "\n",
    "\n",
    "w1 = true_w[str(sig_train)][0]\n",
    "w2 = true_w[str(sig_train)][1]\n",
    "\n",
    "true_likelihoods[str(sig_train)] = p_data(x_test,[sig_mean, back_mean],[sig_simga**2,back_sigma**2],[w1,w2])/p_back(x_test,back_mean,back_sigma**2)\n",
    "\n"
   ]
  },
  {
   "cell_type": "code",
   "execution_count": 41,
   "metadata": {},
   "outputs": [],
   "source": [
    "score_likelihoods = {}\n",
    "\n",
    "score_likelihoods[str(sig_train)] = {}\n",
    "\n",
    "model_SR.eval()\n",
    "model_CR.eval()\n",
    "with torch.no_grad():\n",
    "    log_p = model_SR.log_prob(testtensor.to(device)).cpu().detach().numpy()\n",
    "    log_q = model_CR.log_prob(testtensor.to(device)).cpu().detach().numpy()\n",
    "    score_likelihoods[str(sig_train)] = np.exp(log_p - log_q)\n",
    "    \n"
   ]
  },
  {
   "cell_type": "code",
   "execution_count": 42,
   "metadata": {},
   "outputs": [
    {
     "data": {
      "text/plain": [
       "array([0., 0., 0., ..., 1., 1., 1.])"
      ]
     },
     "execution_count": 42,
     "metadata": {},
     "output_type": "execute_result"
    }
   ],
   "source": [
    "label_test"
   ]
  },
  {
   "cell_type": "code",
   "execution_count": 43,
   "metadata": {},
   "outputs": [
    {
     "data": {
      "image/png": "[encoded data removed]",
      "text/plain": [
       "<Figure size 640x480 with 1 Axes>"
      ]
     },
     "metadata": {},
     "output_type": "display_data"
    }
   ],
   "source": [
    "# compare SICs from score and true likelihoods\n",
    "\n",
    "sic_true , tpr_true , auc_true = SIC(label_test, true_likelihoods[str(sig_train)])\n",
    "sic_score , tpr_score , auc_score = SIC(label_test, score_likelihoods[str(sig_train)])\n",
    "\n",
    "plt.plot(tpr_true, sic_true, label='true')\n",
    "plt.plot(tpr_score, sic_score, label='score')\n",
    "plt.legend(loc='lower right')\n",
    "plt.show()\n",
    "\n"
   ]
  }
 ],
 "metadata": {
  "kernelspec": {
   "display_name": "manode",
   "language": "python",
   "name": "python3"
  },
  "language_info": {
   "codemirror_mode": {
    "name": "ipython",
    "version": 3
   },
   "file_extension": ".py",
   "mimetype": "text/x-python",
   "name": "python",
   "nbconvert_exporter": "python",
   "pygments_lexer": "ipython3",
   "version": "3.9.16"
  },
  "orig_nbformat": 4
 },
 "nbformat": 4,
 "nbformat_minor": 2
}
