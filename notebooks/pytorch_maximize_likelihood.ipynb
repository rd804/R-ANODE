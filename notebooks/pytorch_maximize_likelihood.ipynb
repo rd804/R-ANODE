{
 "cells": [
  {
   "cell_type": "code",
   "execution_count": 34,
   "metadata": {},
   "outputs": [],
   "source": [
    "import torch\n",
    "import numpy as np\n",
    "import matplotlib.pyplot as plt\n",
    "import scipy.stats as stats\n",
    "import pickle\n",
    "from scipy.stats import norm\n",
    "import pickle\n",
    "from sklearn.utils import shuffle"
   ]
  },
  {
   "cell_type": "code",
   "execution_count": 3,
   "metadata": {},
   "outputs": [
    {
     "name": "stdout",
     "output_type": "stream",
     "text": [
      "/home/rd804/m-anode\n"
     ]
    }
   ],
   "source": [
    "cd .. "
   ]
  },
  {
   "cell_type": "code",
   "execution_count": 4,
   "metadata": {},
   "outputs": [],
   "source": [
    "with open('data/data.pkl','rb') as f:\n",
    "    data = pickle.load(f)\n",
    "\n",
    "sig_train = 1\n",
    "x_train = data[str(sig_train)]['train']['data']"
   ]
  },
  {
   "cell_type": "code",
   "execution_count": 5,
   "metadata": {},
   "outputs": [],
   "source": [
    "import torch\n",
    "import math\n",
    "\n",
    "# define custom pytorch loss\n",
    "def negative_log_likelihood(model,X):\n",
    "    output = model(X)\n",
    "    \n",
    "    return -torch.sum(torch.log(output))\n",
    "\n"
   ]
  },
  {
   "cell_type": "code",
   "execution_count": 43,
   "metadata": {},
   "outputs": [
    {
     "ename": "AttributeError",
     "evalue": "'numpy.ndarray' object has no attribute 'type'",
     "output_type": "error",
     "traceback": [
      "\u001b[0;31m---------------------------------------------------------------------------\u001b[0m",
      "\u001b[0;31mAttributeError\u001b[0m                            Traceback (most recent call last)",
      "Cell \u001b[0;32mIn[43], line 1\u001b[0m\n\u001b[0;32m----> 1\u001b[0m x_train\u001b[39m.\u001b[39;49mtype()\n",
      "\u001b[0;31mAttributeError\u001b[0m: 'numpy.ndarray' object has no attribute 'type'"
     ]
    }
   ],
   "source": []
  },
  {
   "cell_type": "code",
   "execution_count": null,
   "metadata": {},
   "outputs": [
    {
     "name": "stdout",
     "output_type": "stream",
     "text": [
      "Result: y = exp(-0.5 * (x - 4.992231845855713) ** 2 / 5.0321574211120605 ** 2) / (5.0321574211120605 * math.sqrt(2 * math.pi))\n"
     ]
    }
   ],
   "source": [
    "class Gaussian(torch.nn.Module):\n",
    "    def __init__(self, x):\n",
    "        \"\"\"\n",
    "        In the constructor we instantiate four parameters and assign them as\n",
    "        member parameters.\n",
    "        \"\"\"\n",
    "        super().__init__()\n",
    "        self.mu1 = torch.nn.Parameter(\n",
    "            torch.torch.distributions.Uniform(low=torch.min(x), \n",
    "                                              high=torch.max(x)).sample())\n",
    "       # self.mu2 = torch.nn.Parameter(torch.randn(()))\n",
    "        self.sigma1 = torch.nn.Parameter(\n",
    "            torch.torch.distributions.Uniform(low=0, \n",
    "                                              high=(torch.max(x)-torch.min(x))).sample())\n",
    "       # self.sigma2 = torch.nn.Parameter(torch.randn(()))\n",
    "       # self.w = torch.nn.Parameter(torch.randn(()))\n",
    "\n",
    "\n",
    "\n",
    "\n",
    "    def forward(self, x):\n",
    "        \"\"\"\n",
    "        In the forward function we accept a Tensor of input data and we must return\n",
    "        a Tensor of output data. We can use Modules defined in the constructor as\n",
    "        well as arbitrary operators on Tensors.\n",
    "        \"\"\"\n",
    "        return torch.exp(-0.5 * (x - self.mu1) ** 2 / self.sigma1 ** 2) / (self.sigma1 * math.sqrt(2 * math.pi))\n",
    "\n",
    "    def string(self):\n",
    "        \"\"\"\n",
    "        Just like any class in Python, you can also define custom method on PyTorch modules\n",
    "        \"\"\"\n",
    "        return f'y = exp(-0.5 * (x - {self.mu1.item()}) ** 2 / {self.sigma1.item()} ** 2) / ({self.sigma1.item()} * math.sqrt(2 * math.pi))'\n",
    "    \n",
    "    def return_parameters(self):\n",
    "        \"\"\"\n",
    "        Just like any class in Python, you can also define custom method on PyTorch modules\n",
    "        \"\"\"\n",
    "        return {'mu1' : self.mu1.detach().item(),\n",
    "                'sigma1': self.sigma1.detach().item()}\n",
    "\n",
    "\n",
    "# Create Tensors to hold input and outputs.\n",
    "x = torch.torch.distributions.Normal(loc=5, scale=5).sample((10000,))\n",
    "\n",
    "# Construct our model by instantiating the class defined above\n",
    "model = Gaussian(x)\n",
    "\n",
    "# Construct our loss function and an Optimizer. The call to model.parameters()\n",
    "# in the SGD constructor will contain the learnable parameters (defined\n",
    "# with torch.nn.Parameter) which are members of the model.\n",
    "optimizer = torch.optim.Adam(model.parameters(), lr=1e-1)\n",
    "for t in range(10000):\n",
    "    # Forward pass: Compute predicted y by passing x to the model\n",
    "    y_pred = model(x)\n",
    "\n",
    "    # Compute and print loss\n",
    "    loss = negative_log_likelihood(model, x)\n",
    "\n",
    "    # Zero gradients, perform a backward pass, and update the weights.\n",
    "    optimizer.zero_grad()\n",
    "    loss.backward()\n",
    "    optimizer.step()\n",
    "\n",
    "print(f'Result: {model.string()}')"
   ]
  },
  {
   "cell_type": "code",
   "execution_count": null,
   "metadata": {},
   "outputs": [
    {
     "data": {
      "text/plain": [
       "{'mu1': 4.992231845855713, 'sigma1': 5.0321574211120605}"
      ]
     },
     "execution_count": 73,
     "metadata": {},
     "output_type": "execute_result"
    }
   ],
   "source": [
    "model.return_parameters()"
   ]
  },
  {
   "cell_type": "code",
   "execution_count": null,
   "metadata": {},
   "outputs": [
    {
     "data": {
      "image/png": "[encoded data removed]",
      "text/plain": [
       "<Figure size 640x480 with 1 Axes>"
      ]
     },
     "metadata": {},
     "output_type": "display_data"
    }
   ],
   "source": [
    "bins = np.linspace(-10, 20, 50)\n",
    "density = model(torch.from_numpy(bins).float()).detach().numpy()\n",
    "\n",
    "plt.hist(x.detach().numpy(), bins=bins, density=True)\n",
    "plt.plot(bins, density, label='Estimated')\n",
    "plt.show()"
   ]
  },
  {
   "cell_type": "code",
   "execution_count": 6,
   "metadata": {},
   "outputs": [
    {
     "name": "stdout",
     "output_type": "stream",
     "text": [
      "tensor([0.5000])\n",
      "tensor([0.5000])\n",
      "tensor([0.6225])\n"
     ]
    }
   ],
   "source": [
    "def inverse_sigmoid(x):\n",
    "    return torch.log(x/(1-x))\n",
    "\n",
    "def sigmoid(x):\n",
    "    return 1 / (1 + torch.exp(-x))\n",
    "\n",
    "x = torch.tensor([0.5])\n",
    "print(sigmoid(inverse_sigmoid(x)))\n",
    "print(inverse_sigmoid(sigmoid(x)))\n",
    "print(sigmoid(x))"
   ]
  },
  {
   "cell_type": "code",
   "execution_count": 210,
   "metadata": {},
   "outputs": [],
   "source": [
    "def p_theta_given_x(x, mu, sigma, w):\n",
    "    p_theta1 = w[0] * torch.exp(-0.5 * (x - mu[0]) ** 2 / sigma[0] ** 2) / (sigma[0] * math.sqrt(2 * math.pi))\n",
    "    p_theta2 = w[1] * torch.exp(-0.5 * (x - mu[1]) ** 2 / sigma[1] ** 2) / (sigma[1] * math.sqrt(2 * math.pi))\n",
    "\n",
    "    prior_1 = torch.mean(p_theta1/(p_theta1+p_theta2)).detach().numpy().item()\n",
    "    prior_2 = torch.mean(p_theta2/(p_theta1+p_theta2)).detach().numpy().item()\n",
    "\n",
    "\n",
    "    return torch.nn.Parameter(torch.Tensor([prior_1, prior_2]), requires_grad=False)"
   ]
  },
  {
   "cell_type": "code",
   "execution_count": 35,
   "metadata": {},
   "outputs": [],
   "source": [
    "# Create Tensors to hold input and outputs.\n",
    "x_1 = torch.torch.distributions.Normal(loc=0, scale=3).sample((100000,))\n",
    "x_2 = torch.torch.distributions.Normal(loc=10, scale=3).sample((100000,))\n",
    "x = torch.concatenate((x_1, x_2))\n",
    "\n",
    "x = shuffle(x)"
   ]
  },
  {
   "cell_type": "code",
   "execution_count": 57,
   "metadata": {},
   "outputs": [
    {
     "name": "stdout",
     "output_type": "stream",
     "text": [
      "Epoch 0\n",
      "Epoch 1\n",
      "Epoch 2\n",
      "Epoch 3\n",
      "Epoch 4\n",
      "Epoch 5\n",
      "Epoch 6\n",
      "Epoch 7\n",
      "Epoch 8\n",
      "Epoch 9\n",
      "Epoch 10\n",
      "Epoch 11\n",
      "Epoch 12\n",
      "Epoch 13\n",
      "Epoch 14\n",
      "Epoch 15\n",
      "Epoch 16\n",
      "Epoch 17\n",
      "Epoch 18\n",
      "Epoch 19\n",
      "Epoch 20\n",
      "Epoch 21\n",
      "Epoch 22\n",
      "Epoch 23\n",
      "Epoch 24\n",
      "Epoch 25\n",
      "Epoch 26\n",
      "Epoch 27\n",
      "Epoch 28\n",
      "Epoch 29\n",
      "Epoch 30\n",
      "Epoch 31\n",
      "Epoch 32\n",
      "Epoch 33\n",
      "Epoch 34\n",
      "Epoch 35\n",
      "Epoch 36\n",
      "Epoch 37\n",
      "Epoch 38\n",
      "Epoch 39\n",
      "Epoch 40\n",
      "Epoch 41\n",
      "Epoch 42\n",
      "Epoch 43\n",
      "Epoch 44\n",
      "Epoch 45\n",
      "Epoch 46\n",
      "Epoch 47\n",
      "Epoch 48\n",
      "Epoch 49\n",
      "Result: y = 3.272704102077334e-13 * Gaussian(x, -11.379962921142578, 5.916412353515625) +             0.9999999999996727 * Gaussian(x, 15.479469299316406, 12.48890495300293)\n"
     ]
    }
   ],
   "source": [
    "class Gaussian_2(torch.nn.Module):\n",
    "    def __init__(self, x, n_components=2):\n",
    "        \"\"\"\n",
    "        In the constructor we instantiate four parameters and assign them as\n",
    "        member parameters.\n",
    "        \"\"\"\n",
    "        super().__init__()\n",
    "\n",
    "        _w = inverse_sigmoid(torch.Tensor([1/n_components]))\n",
    "        self.w = torch.nn.Parameter(_w)\n",
    "    #    self.mu = torch.nn.Parameter(torch.Tensor([0.0,10]))\n",
    "     #   self.sigma = torch.nn.Parameter(torch.Tensor([3.0,3.0]))\n",
    "        self.mu = [torch.nn.Parameter(\n",
    "            torch.torch.distributions.Uniform(low=torch.min(x), \n",
    "                                             high=torch.max(x)).sample()) for i in range(n_components)]\n",
    "        self.sigma = [torch.nn.Parameter(\n",
    "            torch.torch.distributions.Uniform(low=0, \n",
    "                                              high=(torch.max(x)-torch.min(x))).sample()) for i in range(n_components)]\n",
    " \n",
    "\n",
    "\n",
    "\n",
    "    def forward(self, x):\n",
    "\n",
    "        n = len(self.mu)\n",
    "\n",
    "        p = 0\n",
    "\n",
    "        for i in range(n):\n",
    "            if i == 0:\n",
    "                p = sigmoid(self.w[0]) * torch.exp(-0.5 * (x - self.mu[i]) ** 2 / self.sigma[i] ** 2) / (self.sigma[i] * math.sqrt(2 * math.pi))\n",
    "            else:\n",
    "                p += (1-sigmoid(self.w[0])) * torch.exp(-0.5 * (x - self.mu[i]) ** 2 / self.sigma[i] ** 2) / (self.sigma[i] * math.sqrt(2 * math.pi))\n",
    "        return p\n",
    "\n",
    "    def string(self):\n",
    "\n",
    "        w = sigmoid(self.w)\n",
    "        return f'y = {(w[0]).item()} * Gaussian(x, {self.mu[0].item()}, {self.sigma[0].item()}) + \\\n",
    "            {1-(w[0]).item()} * Gaussian(x, {self.mu[1].item()}, {self.sigma[1].item()})'\n",
    "    \n",
    "    def return_parameters(self):\n",
    "\n",
    "        return {'mu 1' : self.mu[0].detach().item(),\n",
    "                'sigma 1': self.sigma[0].detach().item(),\n",
    "                'mu 2' : self.mu[1].detach().item(),\n",
    "                'sigma 2': self.sigma[1].detach().item(),\n",
    "                'w': sigmoid(self.w[0]).detach().item()}\n",
    "\n",
    "\n",
    "\n",
    "# Construct our model by instantiating the class defined above\n",
    "model = Gaussian_2(x)\n",
    "\n",
    "likelihood = []\n",
    "\n",
    "batch_size = 32\n",
    "n_batches = len(x) // batch_size\n",
    "\n",
    "# Construct our loss function and an Optimizer. The call to model.parameters()\n",
    "# in the SGD constructor will contain the learnable parameters (defined\n",
    "# with torch.nn.Parameter) which are members of the model.\n",
    "optimizer = torch.optim.Adam(model.parameters(), lr=1e-2)\n",
    "\n",
    "\n",
    "for t in range(50):\n",
    "    print(f'Epoch {t}')\n",
    "    # Forward pass: Compute predicted y by passing x to the model\n",
    "    likelihood_epoch = 0\n",
    "\n",
    "    for i in range(n_batches):\n",
    "        x_batch = x[i*batch_size:(i+1)*batch_size]\n",
    "        y_pred = model(x_batch)\n",
    "\n",
    "        # Compute and print loss\n",
    "        loss = negative_log_likelihood(model, x_batch)\n",
    "\n",
    "        likelihood_epoch += loss.item()\n",
    "\n",
    "        # Zero gradients, perform a backward pass, and update the weights.\n",
    "        optimizer.zero_grad()\n",
    "        loss.backward()\n",
    "        optimizer.step()\n",
    "   # model.update_w(x)\n",
    "    likelihood.append(likelihood_epoch)\n",
    "\n",
    "\n",
    "print(f'Result: {model.string()}')"
   ]
  },
  {
   "cell_type": "code",
   "execution_count": 58,
   "metadata": {},
   "outputs": [
    {
     "data": {
      "text/plain": [
       "{'mu 1': -11.379962921142578,\n",
       " 'sigma 1': 5.916412353515625,\n",
       " 'mu 2': 15.479469299316406,\n",
       " 'sigma 2': 12.48890495300293,\n",
       " 'w': 3.272704102077334e-13}"
      ]
     },
     "execution_count": 58,
     "metadata": {},
     "output_type": "execute_result"
    }
   ],
   "source": [
    "model.return_parameters()"
   ]
  },
  {
   "cell_type": "code",
   "execution_count": 42,
   "metadata": {},
   "outputs": [
    {
     "data": {
      "text/plain": [
       "'torch.FloatTensor'"
      ]
     },
     "execution_count": 42,
     "metadata": {},
     "output_type": "execute_result"
    }
   ],
   "source": []
  },
  {
   "cell_type": "code",
   "execution_count": 55,
   "metadata": {},
   "outputs": [
    {
     "data": {
      "image/png": "[encoded data removed]",
      "text/plain": [
       "<Figure size 640x480 with 1 Axes>"
      ]
     },
     "metadata": {},
     "output_type": "display_data"
    }
   ],
   "source": [
    "plt.plot(likelihood, label='Negative Log Likelihood')\n",
    "plt.xlabel('Iteration')\n",
    "plt.legend()\n",
    "plt.show()"
   ]
  },
  {
   "cell_type": "code",
   "execution_count": 47,
   "metadata": {},
   "outputs": [
    {
     "data": {
      "text/plain": [
       "852787.8607788086"
      ]
     },
     "execution_count": 47,
     "metadata": {},
     "output_type": "execute_result"
    }
   ],
   "source": [
    "likelihood[-4]"
   ]
  },
  {
   "cell_type": "code",
   "execution_count": 38,
   "metadata": {},
   "outputs": [
    {
     "data": {
      "text/plain": [
       "{'mu 1': 20.790252685546875,\n",
       " 'sigma 1': 12.240732192993164,\n",
       " 'mu 2': 19.51986312866211,\n",
       " 'sigma 2': 11.816057205200195,\n",
       " 'w': 1.835939576365006e-13}"
      ]
     },
     "execution_count": 38,
     "metadata": {},
     "output_type": "execute_result"
    }
   ],
   "source": [
    "model.return_parameters()"
   ]
  },
  {
   "cell_type": "code",
   "execution_count": 59,
   "metadata": {},
   "outputs": [
    {
     "data": {
      "image/png": "[encoded data removed]",
      "text/plain": [
       "<Figure size 640x480 with 1 Axes>"
      ]
     },
     "metadata": {},
     "output_type": "display_data"
    }
   ],
   "source": [
    "bins = np.linspace(-10, 20, 50)\n",
    "density = model(torch.from_numpy(bins).float()).detach().numpy()\n",
    "\n",
    "plt.hist(x.detach().numpy(), bins=bins, density=True)\n",
    "plt.plot(bins, density, label='Estimated')\n",
    "\n",
    "#plt.plot(bins, model(torch.from_numpy(bins).float()).detach().numpy(), label='Estimated')\n",
    "plt.show()"
   ]
  },
  {
   "cell_type": "code",
   "execution_count": null,
   "metadata": {},
   "outputs": [],
   "source": []
  },
  {
   "cell_type": "code",
   "execution_count": null,
   "metadata": {},
   "outputs": [
    {
     "data": {
      "text/plain": [
       "tensor([0.1023, 0.1010, 0.0534,  ..., 0.0624, 0.0446, 0.0775],\n",
       "       dtype=torch.float64, requires_grad=True)"
      ]
     },
     "execution_count": 15,
     "metadata": {},
     "output_type": "execute_result"
    }
   ],
   "source": [
    "# use pytorch to optimize the negative likelihood\n",
    "\n",
    "# define the optimizer\n",
    "\n",
    "\n",
    "\n",
    "\n",
    "\n",
    "    "
   ]
  },
  {
   "cell_type": "code",
   "execution_count": 242,
   "metadata": {},
   "outputs": [],
   "source": [
    "import numbers\n",
    "\n",
    "\n",
    "def tensor(arr, dtype=torch.DoubleTensor):\n",
    "    \"\"\"\n",
    "    Converts a float or an (numpy) array to a torch tensor.\n",
    "    Parameters\n",
    "    ----------\n",
    "    arr :   float or list or ndarray\n",
    "            Scalar or array of floats\n",
    "    dtype : torch.dtype\n",
    "\n",
    "    Returns\n",
    "    -------\n",
    "    Torch Tensor\n",
    "    \"\"\"\n",
    "    if isinstance(arr, numbers.Number):\n",
    "        t = torch.ones(1)*arr\n",
    "    elif type(arr) is list or type(arr) is tuple:\n",
    "        t = torch.Tensor(arr)\n",
    "    else:\n",
    "        t = torch.from_numpy(np.array(arr))\n",
    "    return t.type(dtype)"
   ]
  },
  {
   "cell_type": "code",
   "execution_count": 243,
   "metadata": {},
   "outputs": [],
   "source": [
    "class Normal(object):\n",
    "    def __init__(self, mean, std):\n",
    "        self.mean = mean\n",
    "        self.std = std\n",
    "\n",
    "    def __call__(self, *args):\n",
    "        x = args[0]\n",
    "        mean = self.mean.expand(x.size())\n",
    "        var = self.std.expand(x.size()) ** 2\n",
    "        p = 1./torch.sqrt(2.0*np.pi*var) * torch.exp(- ((x-mean)**2) / (2.0 * var))\n",
    "        return p"
   ]
  },
  {
   "cell_type": "code",
   "execution_count": 244,
   "metadata": {},
   "outputs": [
    {
     "ename": "RuntimeError",
     "evalue": "output with shape [] doesn't match the broadcast shape [1]",
     "output_type": "error",
     "traceback": [
      "\u001b[0;31m---------------------------------------------------------------------------\u001b[0m",
      "\u001b[0;31mRuntimeError\u001b[0m                              Traceback (most recent call last)",
      "Cell \u001b[0;32mIn[244], line 105\u001b[0m\n\u001b[1;32m    102\u001b[0m x \u001b[39m=\u001b[39m np\u001b[39m.\u001b[39mconcatenate(xs, axis\u001b[39m=\u001b[39m\u001b[39m0\u001b[39m)\n\u001b[1;32m    103\u001b[0m observations \u001b[39m=\u001b[39m Variable(tensor(x))\n\u001b[0;32m--> 105\u001b[0m log_likelihood \u001b[39m=\u001b[39m fit(pdfs, params, observations, \u001b[39miter\u001b[39;49m\u001b[39m=\u001b[39;49m\u001b[39m500\u001b[39;49m, lr\u001b[39m=\u001b[39;49m\u001b[39m0.1\u001b[39;49m)\n\u001b[1;32m    107\u001b[0m \u001b[39mprint\u001b[39m(\u001b[39m'\u001b[39m\u001b[39mLog likelihood: \u001b[39m\u001b[39m%7.5f\u001b[39;00m\u001b[39m'\u001b[39m \u001b[39m%\u001b[39m log_likelihood)\n\u001b[1;32m    108\u001b[0m \u001b[39mfor\u001b[39;00m k \u001b[39min\u001b[39;00m \u001b[39mrange\u001b[39m(K):\n",
      "Cell \u001b[0;32mIn[244], line 54\u001b[0m, in \u001b[0;36mfit\u001b[0;34m(pdfs, parameters, observations, iter, lr)\u001b[0m\n\u001b[1;32m     52\u001b[0m \u001b[39m# add constraint sum(mixcoeffs) = 1 via lagrange multiplier\u001b[39;00m\n\u001b[1;32m     53\u001b[0m \u001b[39mfor\u001b[39;00m k \u001b[39min\u001b[39;00m \u001b[39mrange\u001b[39m(K):\n\u001b[0;32m---> 54\u001b[0m     expectation \u001b[39m-\u001b[39m\u001b[39m=\u001b[39m \u001b[39m1.0\u001b[39m \u001b[39m*\u001b[39m parameters[k][\u001b[39m-\u001b[39m\u001b[39m1\u001b[39m]\n\u001b[1;32m     55\u001b[0m expectation \u001b[39m+\u001b[39m\u001b[39m=\u001b[39m \u001b[39m1.0\u001b[39m  \u001b[39m# c = 1\u001b[39;00m\n\u001b[1;32m     57\u001b[0m \u001b[39mif\u001b[39;00m np\u001b[39m.\u001b[39misnan(expectation\u001b[39m.\u001b[39mdata[\u001b[39m0\u001b[39m]):\n",
      "\u001b[0;31mRuntimeError\u001b[0m: output with shape [] doesn't match the broadcast shape [1]"
     ]
    }
   ],
   "source": [
    "import numpy as np\n",
    "import torch\n",
    "from torch.autograd import Variable\n",
    "\n",
    "def fit(pdfs, parameters, observations, iter, lr):\n",
    "    \"\"\"Estimates the parameters of a mixture model via maximum likelihood maximization.\n",
    "    Uses gradient descent for optimization.\n",
    "\n",
    "\n",
    "    Parameters\n",
    "    ----------\n",
    "    pdfs :          List of callable pdfs\n",
    "                    Callable probability density functions (likelihood function)\n",
    "                    expecting an array of observations as the only argument.\n",
    "    parameters :    List of list\n",
    "                    List of list of parameters that are subject to optimization.\n",
    "                    e.g. for a bimodal gaussian mixture: [[mu_1, sigma_1], [mu_2, sigma_2]]\n",
    "    observations :  ndarray\n",
    "                    Observations from an unknown pdf which parameters are subject to be estimated\n",
    "    iter :          float\n",
    "                    Maximum number of iterations\n",
    "    lr :            float\n",
    "                    Gradient descent learning rate\n",
    "\n",
    "    Returns\n",
    "    -------\n",
    "\n",
    "    \"\"\"\n",
    "\n",
    "    # number of models/classes in mixture\n",
    "    K = len(parameters)\n",
    "\n",
    "    # initialize mixing coefficients with random values\n",
    "    mixcoeffs = np.random.rand(K)\n",
    "    mixcoeffs /= np.sum(mixcoeffs)\n",
    "\n",
    "    # make the coefficients visible to the update step\n",
    "    for k in range(K):\n",
    "        mixcoeff = Variable(tensor(mixcoeffs[k]), requires_grad=True)\n",
    "        parameters[k].append(mixcoeff)\n",
    "\n",
    "    for i in range(iter):\n",
    "        likelihood = 0\n",
    "        for k in range(K):\n",
    "            # multiply the likelihood with the mixing coefficients\n",
    "            #  mixing coefficient: p(z_k = 1)\n",
    "            p_z = parameters[k][-1].expand(observations.size())\n",
    "            likelihood += pdfs[k](observations) * p_z\n",
    "\n",
    "        expectation = torch.mean(torch.log(likelihood))\n",
    "\n",
    "        # add constraint sum(mixcoeffs) = 1 via lagrange multiplier\n",
    "        for k in range(K):\n",
    "            expectation -= 1.0 * parameters[k][-1]\n",
    "        expectation += 1.0  # c = 1\n",
    "\n",
    "        if np.isnan(expectation.data[0]):\n",
    "            raise RuntimeError('Singular state. Try different initial parameters')\n",
    "\n",
    "        # Determine gradients\n",
    "        expectation.backward()\n",
    "\n",
    "        # Update parameters with gradient descent\n",
    "        for k in range(K):\n",
    "            for param in parameters[k]:\n",
    "                param.data.add_(lr * param.grad.data)\n",
    "                param.grad.data.zero_()\n",
    "\n",
    "    return expectation.data[0]\n",
    "\n",
    "\n",
    "if __name__ == '__main__':\n",
    "    \"\"\"\n",
    "    Estimate mean and std of a gaussian mixture model via MixtureModel-MLE on Kx10000 observations\n",
    "    \"\"\"\n",
    "\n",
    "    np.random.seed(0)\n",
    "\n",
    "    # number of gaussian models in mixture\n",
    "    K = 2\n",
    "\n",
    "    pdfs = []\n",
    "    params = []\n",
    "    true_params = []\n",
    "    xs = []\n",
    "\n",
    "    for k in range(K):\n",
    "        # Sample observations from a bimodal normal distribution function with different parameter\n",
    "        true_mean = np.random.uniform(-10, 10)\n",
    "        true_std = np.random.uniform(0.5, 3.0)\n",
    "        xs.append(true_mean + np.random.randn(np.random.randint(500, 2000)) * true_std)\n",
    "\n",
    "        # Define likelihood function of model\n",
    "        mean_estimate = Variable(tensor(true_mean+5.*np.random.randn()), requires_grad=True)\n",
    "        std_estimate = Variable(tensor(1.0), requires_grad=True)\n",
    "\n",
    "        pdfs.append(Normal(mean_estimate, std_estimate))\n",
    "\n",
    "        params.append([mean_estimate, std_estimate])\n",
    "        true_params.append([true_mean, true_std])\n",
    "\n",
    "    x = np.concatenate(xs, axis=0)\n",
    "    observations = Variable(tensor(x))\n",
    "\n",
    "    log_likelihood = fit(pdfs, params, observations, iter=500, lr=0.1)\n",
    "\n",
    "    print('Log likelihood: %7.5f' % log_likelihood)\n",
    "    for k in range(K):\n",
    "        print('k=%d mean=% 7.5f std=% 7.5f coeff=% 7.5f' % (k, params[k][0].data[0], params[k][1].data[0], params[k][2].data[0]))\n",
    "\n",
    "    \"\"\"\n",
    "    Plot true and estimated distributions\n",
    "    \"\"\"\n",
    "\n",
    "    import matplotlib.pyplot as plt\n",
    "    n, _, _ = plt.hist(x, 100, normed=True)\n",
    "\n",
    "    # plot distributions\n",
    "    np_pdf = lambda x, mean, std: 1./np.sqrt(2.0*np.pi*std*std) * np.exp(- ((x-mean)**2) / (2.0 * std*std))\n",
    "    xx = np.linspace(np.min(x), np.max(x), 1000)\n",
    "\n",
    "    for k in range(K):\n",
    "        true_y = np_pdf(xx, true_params[k][0], true_params[k][1])\n",
    "        estimated_y = np_pdf(xx, params[k][0].data[0], params[k][1].data[0])\n",
    "\n",
    "        plt.plot(xx, true_y, '-.', label='Target pdf k=%d'%(k+1))\n",
    "        plt.plot(xx, estimated_y, '-', label='Estimated pdf %d' % (k+1))\n",
    "\n",
    "    plt.legend()\n",
    "\n",
    "    plt.show()\n",
    "\n",
    "\n",
    "\n",
    "\n"
   ]
  }
 ],
 "metadata": {
  "kernelspec": {
   "display_name": "manode",
   "language": "python",
   "name": "python3"
  },
  "language_info": {
   "codemirror_mode": {
    "name": "ipython",
    "version": 3
   },
   "file_extension": ".py",
   "mimetype": "text/x-python",
   "name": "python",
   "nbconvert_exporter": "python",
   "pygments_lexer": "ipython3",
   "version": "3.9.16"
  },
  "orig_nbformat": 4
 },
 "nbformat": 4,
 "nbformat_minor": 2
}
