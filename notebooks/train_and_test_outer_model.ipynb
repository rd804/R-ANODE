{
 "cells": [
  {
   "cell_type": "code",
   "execution_count": 1,
   "metadata": {},
   "outputs": [
    {
     "name": "stdout",
     "output_type": "stream",
     "text": [
      "Intel MKL WARNING: Support of Intel(R) Streaming SIMD Extensions 4.2 (Intel(R) SSE4.2) enabled only processors has been deprecated. Intel oneAPI Math Kernel Library 2025.0 will require Intel(R) Advanced Vector Extensions (Intel(R) AVX) instructions.\n",
      "Intel MKL WARNING: Support of Intel(R) Streaming SIMD Extensions 4.2 (Intel(R) SSE4.2) enabled only processors has been deprecated. Intel oneAPI Math Kernel Library 2025.0 will require Intel(R) Advanced Vector Extensions (Intel(R) AVX) instructions.\n"
     ]
    }
   ],
   "source": [
    "import numpy as np\n",
    "from os.path import join\n",
    "import matplotlib.pyplot as plt\n",
    "from src.conditional_normalizing_flow import ConditionalNormalizingFlow"
   ]
  },
  {
   "cell_type": "code",
   "execution_count": 2,
   "metadata": {},
   "outputs": [],
   "source": [
    "plt.style.use('dark_background')"
   ]
  },
  {
   "cell_type": "code",
   "execution_count": 3,
   "metadata": {},
   "outputs": [
    {
     "ename": "FileNotFoundError",
     "evalue": "[Errno 2] No such file or directory: './input_data/outerdata_train.npy'",
     "output_type": "error",
     "traceback": [
      "\u001b[0;31m---------------------------------------------------------------------------\u001b[0m",
      "\u001b[0;31mFileNotFoundError\u001b[0m                         Traceback (most recent call last)",
      "Cell \u001b[0;32mIn[3], line 3\u001b[0m\n\u001b[1;32m      1\u001b[0m \u001b[39m# data loading\u001b[39;00m\n\u001b[1;32m      2\u001b[0m data_path \u001b[39m=\u001b[39m \u001b[39m\"\u001b[39m\u001b[39m./input_data/\u001b[39m\u001b[39m\"\u001b[39m\n\u001b[0;32m----> 3\u001b[0m outerdata_train \u001b[39m=\u001b[39m np\u001b[39m.\u001b[39;49mload(join(data_path, \u001b[39m\"\u001b[39;49m\u001b[39mouterdata_train.npy\u001b[39;49m\u001b[39m\"\u001b[39;49m))\n\u001b[1;32m      4\u001b[0m outerdata_val \u001b[39m=\u001b[39m np\u001b[39m.\u001b[39mload(join(data_path, \u001b[39m\"\u001b[39m\u001b[39mouterdata_val.npy\u001b[39m\u001b[39m\"\u001b[39m))\n\u001b[1;32m      5\u001b[0m innerdata_test \u001b[39m=\u001b[39m np\u001b[39m.\u001b[39mload(join(data_path, \u001b[39m\"\u001b[39m\u001b[39minnerdata_test.npy\u001b[39m\u001b[39m\"\u001b[39m))\n",
      "File \u001b[0;32m~/opt/anaconda3/envs/tutorial-env/lib/python3.11/site-packages/numpy/lib/npyio.py:427\u001b[0m, in \u001b[0;36mload\u001b[0;34m(file, mmap_mode, allow_pickle, fix_imports, encoding, max_header_size)\u001b[0m\n\u001b[1;32m    425\u001b[0m     own_fid \u001b[39m=\u001b[39m \u001b[39mFalse\u001b[39;00m\n\u001b[1;32m    426\u001b[0m \u001b[39melse\u001b[39;00m:\n\u001b[0;32m--> 427\u001b[0m     fid \u001b[39m=\u001b[39m stack\u001b[39m.\u001b[39menter_context(\u001b[39mopen\u001b[39;49m(os_fspath(file), \u001b[39m\"\u001b[39;49m\u001b[39mrb\u001b[39;49m\u001b[39m\"\u001b[39;49m))\n\u001b[1;32m    428\u001b[0m     own_fid \u001b[39m=\u001b[39m \u001b[39mTrue\u001b[39;00m\n\u001b[1;32m    430\u001b[0m \u001b[39m# Code to distinguish from NumPy binary files and pickles.\u001b[39;00m\n",
      "\u001b[0;31mFileNotFoundError\u001b[0m: [Errno 2] No such file or directory: './input_data/outerdata_train.npy'"
     ]
    }
   ],
   "source": [
    "# data loading\n",
    "data_path = \"./input_data/\"\n",
    "\n",
    "#outerdata_train = np.load(join(data_path, \"outerdata_train.npy\"))\n",
    "#outerdata_val = np.load(join(data_path, \"outerdata_val.npy\"))\n",
    "#innerdata_test = np.load(join(data_path, \"innerdata_test.npy\"))"
   ]
  },
  {
   "cell_type": "code",
   "execution_count": 12,
   "metadata": {},
   "outputs": [],
   "source": [
    "# some data preprocessing functions\n",
    "def logit_transform(x, min_vals, max_vals):\n",
    "    with np.errstate(divide='ignore', invalid='ignore'):\n",
    "        x_norm = (x - min_vals) / (max_vals - min_vals)\n",
    "        logit = np.log(x_norm / (1 - x_norm))\n",
    "    domain_mask = ~(np.isnan(logit).any(axis=1) | np.isinf(logit).any(axis=1))\n",
    "    return logit, domain_mask\n",
    "\n",
    "def standardize(x, mean, std):\n",
    "    return (x - mean) / std\n",
    "\n",
    "def inverse_logit_transform(x, min_vals, max_vals):\n",
    "    x_norm = 1 / (1 + np.exp(-x))\n",
    "    return x_norm * (max_vals - min_vals) + min_vals\n",
    "\n",
    "def inverse_standardize(x, mean, std):\n",
    "    return x * std + mean"
   ]
  },
  {
   "cell_type": "code",
   "execution_count": 13,
   "metadata": {},
   "outputs": [],
   "source": [
    "# data preprocessing\n",
    "\n",
    "# the logit min/max and standard scaler parameters are derived on the outer train set\n",
    "preprocessing_params = {}\n",
    "preprocessing_params[\"min\"] = np.min(outerdata_train[:, 1:-1], axis=0)\n",
    "preprocessing_params[\"max\"] = np.max(outerdata_train[:, 1:-1], axis=0)\n",
    "\n",
    "preprocessed_outerdata_train_x, mask = logit_transform(outerdata_train[:, 1:-1], preprocessing_params[\"min\"], preprocessing_params[\"max\"])\n",
    "preprocessed_outerdata_train = np.hstack([outerdata_train[:, 0:1], preprocessed_outerdata_train_x, outerdata_train[:, -1:]])[mask]\n",
    "\n",
    "preprocessing_params[\"mean\"] = np.mean(preprocessed_outerdata_train[:, 1:-1], axis=0)\n",
    "preprocessing_params[\"std\"] = np.std(preprocessed_outerdata_train[:, 1:-1], axis=0)\n",
    "preprocessed_outerdata_train[:, 1:-1] = standardize(preprocessed_outerdata_train[:, 1:-1], preprocessing_params[\"mean\"], preprocessing_params[\"std\"])\n",
    "\n",
    "# outer validation set if one wants to train a new flow\n",
    "preprocessed_outerdata_val_x, mask = logit_transform(outerdata_val[:, 1:-1], preprocessing_params[\"min\"], preprocessing_params[\"max\"])\n",
    "preprocessed_outerdata_val = np.hstack([outerdata_val[:, 0:1], preprocessed_outerdata_val_x, outerdata_val[:, -1:]])[mask]\n",
    "preprocessed_outerdata_val[:, 1:-1] = standardize(preprocessed_outerdata_val[:, 1:-1], preprocessing_params[\"mean\"], preprocessing_params[\"std\"])\n",
    "\n",
    "# inner test set to evaluate inner log likelihood\n",
    "preprocessed_innerdata_test_x, mask = logit_transform(innerdata_test[:, 1:-1], preprocessing_params[\"min\"], preprocessing_params[\"max\"])\n",
    "preprocessed_innerdata_test = np.hstack([innerdata_test[:, 0:1], preprocessed_innerdata_test_x, innerdata_test[:, -1:]])[mask]\n",
    "preprocessed_innerdata_test[:, 1:-1] = standardize(preprocessed_innerdata_test[:, 1:-1], preprocessing_params[\"mean\"], preprocessing_params[\"std\"])"
   ]
  },
  {
   "cell_type": "code",
   "execution_count": 28,
   "metadata": {},
   "outputs": [
    {
     "name": "stdout",
     "output_type": "stream",
     "text": [
      "ConditionalNormalizingFlow has 274800 parameters\n",
      "n_nans = 0\n",
      "n_highs = 0\n",
      "n_nans = 0\n",
      "n_highs = 0\n",
      "\n",
      "Epoch: 0\n"
     ]
    },
    {
     "name": "stderr",
     "output_type": "stream",
     "text": [
      "Train, Log likelihood in nats: -5.351633: 100%|██████████| 439060/439060 [01:43<00:00, 4256.40it/s]\n"
     ]
    },
    {
     "name": "stdout",
     "output_type": "stream",
     "text": [
      "n_nans = 0\n",
      "n_highs = 0\n",
      "train_loss =  5.351611788407635\n",
      "val_loss =  5.345894036284708\n",
      "\n",
      "Epoch: 1\n"
     ]
    },
    {
     "name": "stderr",
     "output_type": "stream",
     "text": [
      "Train, Log likelihood in nats: -5.329453: 100%|██████████| 439060/439060 [01:44<00:00, 4197.15it/s]\n"
     ]
    },
    {
     "name": "stdout",
     "output_type": "stream",
     "text": [
      "n_nans = 0\n",
      "n_highs = 0\n",
      "train_loss =  5.329480507728077\n",
      "val_loss =  5.3403725324500915\n",
      "\n",
      "Epoch: 2\n"
     ]
    },
    {
     "name": "stderr",
     "output_type": "stream",
     "text": [
      "Train, Log likelihood in nats: -5.325919: 100%|██████████| 439060/439060 [01:42<00:00, 4289.69it/s]\n"
     ]
    },
    {
     "name": "stdout",
     "output_type": "stream",
     "text": [
      "n_nans = 0\n",
      "n_highs = 0\n",
      "train_loss =  5.325869855921789\n",
      "val_loss =  5.338907662902619\n",
      "\n",
      "Epoch: 3\n"
     ]
    },
    {
     "name": "stderr",
     "output_type": "stream",
     "text": [
      "Train, Log likelihood in nats: -5.324226: 100%|██████████| 439060/439060 [01:48<00:00, 4058.13it/s]\n"
     ]
    },
    {
     "name": "stdout",
     "output_type": "stream",
     "text": [
      "n_nans = 0\n",
      "n_highs = 0\n",
      "train_loss =  5.324628992570601\n",
      "val_loss =  5.3362204608284785\n",
      "\n",
      "Epoch: 4\n"
     ]
    },
    {
     "name": "stderr",
     "output_type": "stream",
     "text": [
      "Train, Log likelihood in nats: -5.322686: 100%|██████████| 439060/439060 [01:42<00:00, 4273.37it/s]\n"
     ]
    },
    {
     "name": "stdout",
     "output_type": "stream",
     "text": [
      "n_nans = 0\n",
      "n_highs = 0\n",
      "train_loss =  5.3228726786236304\n",
      "val_loss =  5.336001561782331\n",
      "\n",
      "Epoch: 5\n"
     ]
    },
    {
     "name": "stderr",
     "output_type": "stream",
     "text": [
      "Train, Log likelihood in nats: -5.322515: 100%|██████████| 439060/439060 [01:43<00:00, 4245.37it/s]\n"
     ]
    },
    {
     "name": "stdout",
     "output_type": "stream",
     "text": [
      "n_nans = 0\n",
      "n_highs = 0\n",
      "train_loss =  5.322470932629572\n",
      "val_loss =  5.334762978512163\n",
      "\n",
      "Epoch: 6\n"
     ]
    },
    {
     "name": "stderr",
     "output_type": "stream",
     "text": [
      "Train, Log likelihood in nats: -5.321858: 100%|██████████| 439060/439060 [01:45<00:00, 4176.33it/s]\n"
     ]
    },
    {
     "name": "stdout",
     "output_type": "stream",
     "text": [
      "n_nans = 0\n",
      "n_highs = 0\n",
      "train_loss =  5.3219703834089325\n",
      "val_loss =  5.336403830097192\n",
      "\n",
      "Epoch: 7\n"
     ]
    },
    {
     "name": "stderr",
     "output_type": "stream",
     "text": [
      "Train, Log likelihood in nats: -5.320693: 100%|██████████| 439060/439060 [01:40<00:00, 4366.06it/s]\n"
     ]
    },
    {
     "name": "stdout",
     "output_type": "stream",
     "text": [
      "n_nans = 0\n",
      "n_highs = 0\n",
      "train_loss =  5.321033416955676\n",
      "val_loss =  5.333921643035782\n",
      "\n",
      "Epoch: 8\n"
     ]
    },
    {
     "name": "stderr",
     "output_type": "stream",
     "text": [
      "Train, Log likelihood in nats: -5.320272: 100%|██████████| 439060/439060 [01:44<00:00, 4203.11it/s]\n"
     ]
    },
    {
     "name": "stdout",
     "output_type": "stream",
     "text": [
      "n_nans = 0\n",
      "n_highs = 0\n",
      "train_loss =  5.320425560654896\n",
      "val_loss =  5.334203406362217\n",
      "\n",
      "Epoch: 9\n"
     ]
    },
    {
     "name": "stderr",
     "output_type": "stream",
     "text": [
      "Train, Log likelihood in nats: -5.319990: 100%|██████████| 439060/439060 [01:47<00:00, 4098.77it/s]\n"
     ]
    },
    {
     "name": "stdout",
     "output_type": "stream",
     "text": [
      "n_nans = 0\n",
      "n_highs = 0\n",
      "train_loss =  5.32016063851821\n",
      "val_loss =  5.334658547013634\n",
      "\n",
      "Epoch: 10\n"
     ]
    },
    {
     "name": "stderr",
     "output_type": "stream",
     "text": [
      "Train, Log likelihood in nats: -5.319584: 100%|██████████| 439060/439060 [01:45<00:00, 4160.65it/s]\n"
     ]
    },
    {
     "name": "stdout",
     "output_type": "stream",
     "text": [
      "n_nans = 0\n",
      "n_highs = 0\n",
      "train_loss =  5.31964255050663\n",
      "val_loss =  5.3328991560411705\n",
      "\n",
      "Epoch: 11\n"
     ]
    },
    {
     "name": "stderr",
     "output_type": "stream",
     "text": [
      "Train, Log likelihood in nats: -5.319284: 100%|██████████| 439060/439060 [01:45<00:00, 4171.23it/s]\n"
     ]
    },
    {
     "name": "stdout",
     "output_type": "stream",
     "text": [
      "n_nans = 0\n",
      "n_highs = 0\n",
      "train_loss =  5.319257288279307\n",
      "val_loss =  5.332317709298658\n",
      "\n",
      "Epoch: 12\n"
     ]
    },
    {
     "name": "stderr",
     "output_type": "stream",
     "text": [
      "Train, Log likelihood in nats: -5.318105: 100%|██████████| 439060/439060 [01:45<00:00, 4156.94it/s]\n"
     ]
    },
    {
     "name": "stdout",
     "output_type": "stream",
     "text": [
      "n_nans = 0\n",
      "n_highs = 0\n",
      "train_loss =  5.318279819004043\n",
      "val_loss =  5.334638811114779\n",
      "\n",
      "Epoch: 13\n"
     ]
    },
    {
     "name": "stderr",
     "output_type": "stream",
     "text": [
      "Train, Log likelihood in nats: -5.318101: 100%|██████████| 439060/439060 [01:44<00:00, 4207.55it/s]\n"
     ]
    },
    {
     "name": "stdout",
     "output_type": "stream",
     "text": [
      "n_nans = 0\n",
      "n_highs = 0\n",
      "train_loss =  5.3181842756755735\n",
      "val_loss =  5.3329136217659885\n",
      "\n",
      "Epoch: 14\n"
     ]
    },
    {
     "name": "stderr",
     "output_type": "stream",
     "text": [
      "Train, Log likelihood in nats: -5.317685: 100%|██████████| 439060/439060 [01:45<00:00, 4153.17it/s]\n"
     ]
    },
    {
     "name": "stdout",
     "output_type": "stream",
     "text": [
      "n_nans = 0\n",
      "n_highs = 0\n",
      "train_loss =  5.31792519640196\n",
      "val_loss =  5.3322769983900775\n",
      "\n",
      "Epoch: 15\n"
     ]
    },
    {
     "name": "stderr",
     "output_type": "stream",
     "text": [
      "Train, Log likelihood in nats: -5.317395: 100%|██████████| 439060/439060 [01:45<00:00, 4161.28it/s]\n"
     ]
    },
    {
     "name": "stdout",
     "output_type": "stream",
     "text": [
      "n_nans = 0\n",
      "n_highs = 0\n",
      "train_loss =  5.317552018994781\n",
      "val_loss =  5.33336117962476\n",
      "\n",
      "Epoch: 16\n"
     ]
    },
    {
     "name": "stderr",
     "output_type": "stream",
     "text": [
      "Train, Log likelihood in nats: -5.317602: 100%|██████████| 439060/439060 [01:43<00:00, 4236.37it/s]\n"
     ]
    },
    {
     "name": "stdout",
     "output_type": "stream",
     "text": [
      "n_nans = 0\n",
      "n_highs = 0\n",
      "train_loss =  5.317595142995731\n",
      "val_loss =  5.334147640547827\n",
      "\n",
      "Epoch: 17\n"
     ]
    },
    {
     "name": "stderr",
     "output_type": "stream",
     "text": [
      "Train, Log likelihood in nats: -5.317496: 100%|██████████| 439060/439060 [01:44<00:00, 4189.61it/s]\n"
     ]
    },
    {
     "name": "stdout",
     "output_type": "stream",
     "text": [
      "n_nans = 0\n",
      "n_highs = 0\n",
      "train_loss =  5.317320338312284\n",
      "val_loss =  5.331928140829995\n",
      "\n",
      "Epoch: 18\n"
     ]
    },
    {
     "name": "stderr",
     "output_type": "stream",
     "text": [
      "Train, Log likelihood in nats: -5.316771: 100%|██████████| 439060/439060 [01:48<00:00, 4037.80it/s]\n"
     ]
    },
    {
     "name": "stdout",
     "output_type": "stream",
     "text": [
      "n_nans = 0\n",
      "n_highs = 0\n",
      "train_loss =  5.316953583439841\n",
      "val_loss =  5.332362652657127\n",
      "\n",
      "Epoch: 19\n"
     ]
    },
    {
     "name": "stderr",
     "output_type": "stream",
     "text": [
      "Train, Log likelihood in nats: -5.316847: 100%|██████████| 439060/439060 [01:45<00:00, 4144.12it/s]\n"
     ]
    },
    {
     "name": "stdout",
     "output_type": "stream",
     "text": [
      "n_nans = 0\n",
      "n_highs = 0\n",
      "train_loss =  5.316874223381969\n",
      "val_loss =  5.333358251195511\n",
      "\n",
      "Epoch: 20\n"
     ]
    },
    {
     "name": "stderr",
     "output_type": "stream",
     "text": [
      "Train, Log likelihood in nats: -5.316284: 100%|██████████| 439060/439060 [01:45<00:00, 4161.06it/s]\n"
     ]
    },
    {
     "name": "stdout",
     "output_type": "stream",
     "text": [
      "n_nans = 0\n",
      "n_highs = 0\n",
      "train_loss =  5.316612651896239\n",
      "val_loss =  5.332568409139157\n",
      "\n",
      "Epoch: 21\n"
     ]
    },
    {
     "name": "stderr",
     "output_type": "stream",
     "text": [
      "Train, Log likelihood in nats: -5.315738: 100%|██████████| 439060/439060 [01:40<00:00, 4390.17it/s]\n"
     ]
    },
    {
     "name": "stdout",
     "output_type": "stream",
     "text": [
      "n_nans = 0\n",
      "n_highs = 0\n",
      "train_loss =  5.315719345017445\n",
      "val_loss =  5.332098945897287\n",
      "\n",
      "Epoch: 22\n"
     ]
    },
    {
     "name": "stderr",
     "output_type": "stream",
     "text": [
      "Train, Log likelihood in nats: -5.316057: 100%|██████████| 439060/439060 [01:40<00:00, 4348.60it/s]\n"
     ]
    },
    {
     "name": "stdout",
     "output_type": "stream",
     "text": [
      "n_nans = 0\n",
      "n_highs = 0\n",
      "train_loss =  5.315990339502009\n",
      "val_loss =  5.332001468898114\n",
      "\n",
      "Epoch: 23\n"
     ]
    },
    {
     "name": "stderr",
     "output_type": "stream",
     "text": [
      "Train, Log likelihood in nats: -5.316181: 100%|██████████| 439060/439060 [01:39<00:00, 4396.39it/s]\n"
     ]
    },
    {
     "name": "stdout",
     "output_type": "stream",
     "text": [
      "n_nans = 0\n",
      "n_highs = 0\n",
      "train_loss =  5.316037667337944\n",
      "val_loss =  5.332072219715484\n",
      "\n",
      "Epoch: 24\n"
     ]
    },
    {
     "name": "stderr",
     "output_type": "stream",
     "text": [
      "Train, Log likelihood in nats: -5.315139: 100%|██████████| 439060/439060 [01:41<00:00, 4335.07it/s]\n"
     ]
    },
    {
     "name": "stdout",
     "output_type": "stream",
     "text": [
      "n_nans = 0\n",
      "n_highs = 0\n",
      "train_loss =  5.315325298903608\n",
      "val_loss =  5.332378051251849\n",
      "\n",
      "Epoch: 25\n"
     ]
    },
    {
     "name": "stderr",
     "output_type": "stream",
     "text": [
      "Train, Log likelihood in nats: -5.314620: 100%|██████████| 439060/439060 [01:45<00:00, 4176.57it/s]\n"
     ]
    },
    {
     "name": "stdout",
     "output_type": "stream",
     "text": [
      "n_nans = 0\n",
      "n_highs = 0\n",
      "train_loss =  5.314918106886942\n",
      "val_loss =  5.333913679106281\n",
      "\n",
      "Epoch: 26\n"
     ]
    },
    {
     "name": "stderr",
     "output_type": "stream",
     "text": [
      "Train, Log likelihood in nats: -5.314920: 100%|██████████| 439060/439060 [01:45<00:00, 4159.84it/s]\n"
     ]
    },
    {
     "name": "stdout",
     "output_type": "stream",
     "text": [
      "n_nans = 0\n",
      "n_highs = 0\n",
      "train_loss =  5.314775448925418\n",
      "val_loss =  5.331909604929713\n",
      "\n",
      "Epoch: 27\n"
     ]
    },
    {
     "name": "stderr",
     "output_type": "stream",
     "text": [
      "Train, Log likelihood in nats: -5.314658: 100%|██████████| 439060/439060 [01:45<00:00, 4169.13it/s]\n"
     ]
    },
    {
     "name": "stdout",
     "output_type": "stream",
     "text": [
      "n_nans = 0\n",
      "n_highs = 0\n",
      "train_loss =  5.3146007518803495\n",
      "val_loss =  5.332430544115902\n",
      "\n",
      "Epoch: 28\n"
     ]
    },
    {
     "name": "stderr",
     "output_type": "stream",
     "text": [
      "Train, Log likelihood in nats: -5.314683: 100%|██████████| 439060/439060 [01:45<00:00, 4146.49it/s]\n"
     ]
    },
    {
     "name": "stdout",
     "output_type": "stream",
     "text": [
      "n_nans = 0\n",
      "n_highs = 0\n",
      "train_loss =  5.314829193293541\n",
      "val_loss =  5.332248512154891\n",
      "\n",
      "Epoch: 29\n"
     ]
    },
    {
     "name": "stderr",
     "output_type": "stream",
     "text": [
      "Train, Log likelihood in nats: -5.314271: 100%|██████████| 439060/439060 [01:45<00:00, 4156.62it/s]\n"
     ]
    },
    {
     "name": "stdout",
     "output_type": "stream",
     "text": [
      "n_nans = 0\n",
      "n_highs = 0\n",
      "train_loss =  5.314265539625188\n",
      "val_loss =  5.33195772720257\n",
      "\n",
      "Epoch: 30\n"
     ]
    },
    {
     "name": "stderr",
     "output_type": "stream",
     "text": [
      "Train, Log likelihood in nats: -5.314089: 100%|██████████| 439060/439060 [01:46<00:00, 4110.19it/s]\n"
     ]
    },
    {
     "name": "stdout",
     "output_type": "stream",
     "text": [
      "n_nans = 0\n",
      "n_highs = 0\n",
      "train_loss =  5.314397193762359\n",
      "val_loss =  5.332436316092393\n",
      "\n",
      "Epoch: 31\n"
     ]
    },
    {
     "name": "stderr",
     "output_type": "stream",
     "text": [
      "Train, Log likelihood in nats: -5.313668: 100%|██████████| 439060/439060 [01:46<00:00, 4108.68it/s]\n"
     ]
    },
    {
     "name": "stdout",
     "output_type": "stream",
     "text": [
      "n_nans = 0\n",
      "n_highs = 0\n",
      "train_loss =  5.313884782909517\n",
      "val_loss =  5.3311291356777435\n",
      "\n",
      "Epoch: 32\n"
     ]
    },
    {
     "name": "stderr",
     "output_type": "stream",
     "text": [
      "Train, Log likelihood in nats: -5.314299: 100%|██████████| 439060/439060 [01:52<00:00, 3909.04it/s]\n"
     ]
    },
    {
     "name": "stdout",
     "output_type": "stream",
     "text": [
      "n_nans = 0\n",
      "n_highs = 0\n",
      "train_loss =  5.314079153453039\n",
      "val_loss =  5.3319088942509465\n",
      "\n",
      "Epoch: 33\n"
     ]
    },
    {
     "name": "stderr",
     "output_type": "stream",
     "text": [
      "Train, Log likelihood in nats: -5.313519: 100%|██████████| 439060/439060 [01:53<00:00, 3872.70it/s]\n"
     ]
    },
    {
     "name": "stdout",
     "output_type": "stream",
     "text": [
      "n_nans = 0\n",
      "n_highs = 0\n",
      "train_loss =  5.313470982950282\n",
      "val_loss =  5.332266395628764\n",
      "\n",
      "Epoch: 34\n"
     ]
    },
    {
     "name": "stderr",
     "output_type": "stream",
     "text": [
      "Train, Log likelihood in nats: -5.313109: 100%|██████████| 439060/439060 [01:49<00:00, 4003.45it/s]\n"
     ]
    },
    {
     "name": "stdout",
     "output_type": "stream",
     "text": [
      "n_nans = 0\n",
      "n_highs = 0\n",
      "train_loss =  5.313483204603988\n",
      "val_loss =  5.331894549191726\n",
      "\n",
      "Epoch: 35\n"
     ]
    },
    {
     "name": "stderr",
     "output_type": "stream",
     "text": [
      "Train, Log likelihood in nats: -5.313240: 100%|██████████| 439060/439060 [01:49<00:00, 4018.21it/s]\n"
     ]
    },
    {
     "name": "stdout",
     "output_type": "stream",
     "text": [
      "n_nans = 0\n",
      "n_highs = 0\n",
      "train_loss =  5.313242901863772\n",
      "val_loss =  5.332228517449131\n",
      "\n",
      "Epoch: 36\n"
     ]
    },
    {
     "name": "stderr",
     "output_type": "stream",
     "text": [
      "Train, Log likelihood in nats: -5.312995: 100%|██████████| 439060/439060 [01:46<00:00, 4128.16it/s]\n"
     ]
    },
    {
     "name": "stdout",
     "output_type": "stream",
     "text": [
      "n_nans = 0\n",
      "n_highs = 0\n",
      "train_loss =  5.313075445651117\n",
      "val_loss =  5.333141021495506\n",
      "\n",
      "Epoch: 37\n"
     ]
    },
    {
     "name": "stderr",
     "output_type": "stream",
     "text": [
      "Train, Log likelihood in nats: -5.312282: 100%|██████████| 439060/439060 [01:45<00:00, 4157.47it/s]\n"
     ]
    },
    {
     "name": "stdout",
     "output_type": "stream",
     "text": [
      "n_nans = 0\n",
      "n_highs = 0\n",
      "train_loss =  5.3128839793099045\n",
      "val_loss =  5.3312944758416885\n",
      "\n",
      "Epoch: 38\n"
     ]
    },
    {
     "name": "stderr",
     "output_type": "stream",
     "text": [
      "Train, Log likelihood in nats: -5.312674: 100%|██████████| 439060/439060 [01:46<00:00, 4131.27it/s]\n"
     ]
    },
    {
     "name": "stdout",
     "output_type": "stream",
     "text": [
      "n_nans = 0\n",
      "n_highs = 0\n",
      "train_loss =  5.312843101934622\n",
      "val_loss =  5.331052211774789\n",
      "\n",
      "Epoch: 39\n"
     ]
    },
    {
     "name": "stderr",
     "output_type": "stream",
     "text": [
      "Train, Log likelihood in nats: -5.312327: 100%|██████████| 439060/439060 [01:46<00:00, 4108.56it/s]\n"
     ]
    },
    {
     "name": "stdout",
     "output_type": "stream",
     "text": [
      "n_nans = 0\n",
      "n_highs = 0\n",
      "train_loss =  5.312474144896858\n",
      "val_loss =  5.332197227611176\n",
      "\n",
      "Epoch: 40\n"
     ]
    },
    {
     "name": "stderr",
     "output_type": "stream",
     "text": [
      "Train, Log likelihood in nats: -5.312205: 100%|██████████| 439060/439060 [01:48<00:00, 4044.05it/s]\n"
     ]
    },
    {
     "name": "stdout",
     "output_type": "stream",
     "text": [
      "n_nans = 0\n",
      "n_highs = 0\n",
      "train_loss =  5.31256386677844\n",
      "val_loss =  5.330566742449323\n",
      "\n",
      "Epoch: 41\n"
     ]
    },
    {
     "name": "stderr",
     "output_type": "stream",
     "text": [
      "Train, Log likelihood in nats: -5.312314: 100%|██████████| 439060/439060 [01:53<00:00, 3874.34it/s]\n"
     ]
    },
    {
     "name": "stdout",
     "output_type": "stream",
     "text": [
      "n_nans = 0\n",
      "n_highs = 0\n",
      "train_loss =  5.312290408836326\n",
      "val_loss =  5.332225311072917\n",
      "\n",
      "Epoch: 42\n"
     ]
    },
    {
     "name": "stderr",
     "output_type": "stream",
     "text": [
      "Train, Log likelihood in nats: -5.311699: 100%|██████████| 439060/439060 [01:51<00:00, 3930.11it/s]\n"
     ]
    },
    {
     "name": "stdout",
     "output_type": "stream",
     "text": [
      "n_nans = 0\n",
      "n_highs = 0\n",
      "train_loss =  5.311732187310433\n",
      "val_loss =  5.332500526002148\n",
      "\n",
      "Epoch: 43\n"
     ]
    },
    {
     "name": "stderr",
     "output_type": "stream",
     "text": [
      "Train, Log likelihood in nats: -5.311517: 100%|██████████| 439060/439060 [01:49<00:00, 4007.37it/s]\n"
     ]
    },
    {
     "name": "stdout",
     "output_type": "stream",
     "text": [
      "n_nans = 0\n",
      "n_highs = 0\n",
      "train_loss =  5.31168012216043\n",
      "val_loss =  5.332506859697805\n",
      "\n",
      "Epoch: 44\n"
     ]
    },
    {
     "name": "stderr",
     "output_type": "stream",
     "text": [
      "Train, Log likelihood in nats: -5.311533: 100%|██████████| 439060/439060 [01:47<00:00, 4078.19it/s]\n"
     ]
    },
    {
     "name": "stdout",
     "output_type": "stream",
     "text": [
      "n_nans = 0\n",
      "n_highs = 0\n",
      "train_loss =  5.311562013480569\n",
      "val_loss =  5.331789243907829\n",
      "\n",
      "Epoch: 45\n"
     ]
    },
    {
     "name": "stderr",
     "output_type": "stream",
     "text": [
      "Train, Log likelihood in nats: -5.310853: 100%|██████████| 439060/439060 [01:50<00:00, 3973.56it/s]\n"
     ]
    },
    {
     "name": "stdout",
     "output_type": "stream",
     "text": [
      "n_nans = 0\n",
      "n_highs = 0\n",
      "train_loss =  5.310802002627665\n",
      "val_loss =  5.33182748824514\n",
      "\n",
      "Epoch: 46\n"
     ]
    },
    {
     "name": "stderr",
     "output_type": "stream",
     "text": [
      "Train, Log likelihood in nats: -5.311587: 100%|██████████| 439060/439060 [01:45<00:00, 4160.36it/s]\n"
     ]
    },
    {
     "name": "stdout",
     "output_type": "stream",
     "text": [
      "n_nans = 0\n",
      "n_highs = 0\n",
      "train_loss =  5.311399297792863\n",
      "val_loss =  5.3322145435406485\n",
      "\n",
      "Epoch: 47\n"
     ]
    },
    {
     "name": "stderr",
     "output_type": "stream",
     "text": [
      "Train, Log likelihood in nats: -5.310662: 100%|██████████| 439060/439060 [01:51<00:00, 3923.97it/s]\n"
     ]
    },
    {
     "name": "stdout",
     "output_type": "stream",
     "text": [
      "n_nans = 0\n",
      "n_highs = 0\n",
      "train_loss =  5.310480988005031\n",
      "val_loss =  5.332616794379802\n",
      "\n",
      "Epoch: 48\n"
     ]
    },
    {
     "name": "stderr",
     "output_type": "stream",
     "text": [
      "Train, Log likelihood in nats: -5.310454: 100%|██████████| 439060/439060 [01:50<00:00, 3981.34it/s]\n"
     ]
    },
    {
     "name": "stdout",
     "output_type": "stream",
     "text": [
      "n_nans = 0\n",
      "n_highs = 0\n",
      "train_loss =  5.310317857499623\n",
      "val_loss =  5.334054395998543\n",
      "\n",
      "Epoch: 49\n"
     ]
    },
    {
     "name": "stderr",
     "output_type": "stream",
     "text": [
      "Train, Log likelihood in nats: -5.310451: 100%|██████████| 439060/439060 [01:48<00:00, 4054.69it/s]\n"
     ]
    },
    {
     "name": "stdout",
     "output_type": "stream",
     "text": [
      "n_nans = 0\n",
      "n_highs = 0\n",
      "train_loss =  5.310769565741967\n",
      "val_loss =  5.3317800134056315\n",
      "\n",
      "Epoch: 50\n"
     ]
    },
    {
     "name": "stderr",
     "output_type": "stream",
     "text": [
      "Train, Log likelihood in nats: -5.310976: 100%|██████████| 439060/439060 [01:49<00:00, 3997.49it/s]\n"
     ]
    },
    {
     "name": "stdout",
     "output_type": "stream",
     "text": [
      "n_nans = 0\n",
      "n_highs = 0\n",
      "train_loss =  5.310821254210597\n",
      "val_loss =  5.331603788372526\n",
      "\n",
      "Epoch: 51\n"
     ]
    },
    {
     "name": "stderr",
     "output_type": "stream",
     "text": [
      "Train, Log likelihood in nats: -5.310177: 100%|██████████| 439060/439060 [01:48<00:00, 4059.92it/s]\n"
     ]
    },
    {
     "name": "stdout",
     "output_type": "stream",
     "text": [
      "n_nans = 0\n",
      "n_highs = 0\n",
      "train_loss =  5.310393139230294\n",
      "val_loss =  5.3312564478702775\n",
      "\n",
      "Epoch: 52\n"
     ]
    },
    {
     "name": "stderr",
     "output_type": "stream",
     "text": [
      "Train, Log likelihood in nats: -5.309725: 100%|██████████| 439060/439060 [01:48<00:00, 4036.53it/s]\n"
     ]
    },
    {
     "name": "stdout",
     "output_type": "stream",
     "text": [
      "n_nans = 0\n",
      "n_highs = 0\n",
      "train_loss =  5.310115934886058\n",
      "val_loss =  5.3320871165077515\n",
      "\n",
      "Epoch: 53\n"
     ]
    },
    {
     "name": "stderr",
     "output_type": "stream",
     "text": [
      "Train, Log likelihood in nats: -5.310261: 100%|██████████| 439060/439060 [01:52<00:00, 3919.78it/s]\n"
     ]
    },
    {
     "name": "stdout",
     "output_type": "stream",
     "text": [
      "n_nans = 0\n",
      "n_highs = 0\n",
      "train_loss =  5.310309631923975\n",
      "val_loss =  5.3319434944871835\n",
      "\n",
      "Epoch: 54\n"
     ]
    },
    {
     "name": "stderr",
     "output_type": "stream",
     "text": [
      "Train, Log likelihood in nats: -5.309586: 100%|██████████| 439060/439060 [01:48<00:00, 4032.58it/s]\n"
     ]
    },
    {
     "name": "stdout",
     "output_type": "stream",
     "text": [
      "n_nans = 0\n",
      "n_highs = 0\n",
      "train_loss =  5.30979210022386\n",
      "val_loss =  5.332623237090585\n",
      "\n",
      "Epoch: 55\n"
     ]
    },
    {
     "name": "stderr",
     "output_type": "stream",
     "text": [
      "Train, Log likelihood in nats: -5.309426: 100%|██████████| 439060/439060 [01:49<00:00, 4010.00it/s]\n"
     ]
    },
    {
     "name": "stdout",
     "output_type": "stream",
     "text": [
      "n_nans = 0\n",
      "n_highs = 0\n",
      "train_loss =  5.309415764115326\n",
      "val_loss =  5.3322274431092165\n",
      "\n",
      "Epoch: 56\n"
     ]
    },
    {
     "name": "stderr",
     "output_type": "stream",
     "text": [
      "Train, Log likelihood in nats: -5.308526: 100%|██████████| 439060/439060 [01:50<00:00, 3982.34it/s]\n"
     ]
    },
    {
     "name": "stdout",
     "output_type": "stream",
     "text": [
      "n_nans = 0\n",
      "n_highs = 0\n",
      "train_loss =  5.30897851254312\n",
      "val_loss =  5.333204775372517\n",
      "\n",
      "Epoch: 57\n"
     ]
    },
    {
     "name": "stderr",
     "output_type": "stream",
     "text": [
      "Train, Log likelihood in nats: -5.308863: 100%|██████████| 439060/439060 [01:48<00:00, 4032.92it/s]\n"
     ]
    },
    {
     "name": "stdout",
     "output_type": "stream",
     "text": [
      "n_nans = 0\n",
      "n_highs = 0\n",
      "train_loss =  5.308782563043152\n",
      "val_loss =  5.332025502988805\n",
      "\n",
      "Epoch: 58\n"
     ]
    },
    {
     "name": "stderr",
     "output_type": "stream",
     "text": [
      "Train, Log likelihood in nats: -5.308258: 100%|██████████| 439060/439060 [01:50<00:00, 3986.01it/s]\n"
     ]
    },
    {
     "name": "stdout",
     "output_type": "stream",
     "text": [
      "n_nans = 0\n",
      "n_highs = 0\n",
      "train_loss =  5.308434783322542\n",
      "val_loss =  5.331766185960221\n",
      "\n",
      "Epoch: 59\n"
     ]
    },
    {
     "name": "stderr",
     "output_type": "stream",
     "text": [
      "Train, Log likelihood in nats: -5.308153: 100%|██████████| 439060/439060 [01:50<00:00, 3961.35it/s]\n"
     ]
    },
    {
     "name": "stdout",
     "output_type": "stream",
     "text": [
      "n_nans = 0\n",
      "n_highs = 0\n",
      "train_loss =  5.308321821650508\n",
      "val_loss =  5.331539671666543\n",
      "\n",
      "Epoch: 60\n"
     ]
    },
    {
     "name": "stderr",
     "output_type": "stream",
     "text": [
      "Train, Log likelihood in nats: -5.308261: 100%|██████████| 439060/439060 [01:49<00:00, 4007.87it/s]\n"
     ]
    },
    {
     "name": "stdout",
     "output_type": "stream",
     "text": [
      "n_nans = 0\n",
      "n_highs = 0\n",
      "train_loss =  5.308305716571062\n",
      "val_loss =  5.3312471599479\n",
      "\n",
      "Epoch: 61\n"
     ]
    },
    {
     "name": "stderr",
     "output_type": "stream",
     "text": [
      "Train, Log likelihood in nats: -5.308530: 100%|██████████| 439060/439060 [01:51<00:00, 3928.88it/s]\n"
     ]
    },
    {
     "name": "stdout",
     "output_type": "stream",
     "text": [
      "n_nans = 0\n",
      "n_highs = 0\n",
      "train_loss =  5.308291194641264\n",
      "val_loss =  5.33230432373899\n",
      "\n",
      "Epoch: 62\n"
     ]
    },
    {
     "name": "stderr",
     "output_type": "stream",
     "text": [
      "Train, Log likelihood in nats: -5.308201: 100%|██████████| 439060/439060 [01:48<00:00, 4039.12it/s]\n"
     ]
    },
    {
     "name": "stdout",
     "output_type": "stream",
     "text": [
      "n_nans = 0\n",
      "n_highs = 0\n",
      "train_loss =  5.308228105749459\n",
      "val_loss =  5.331681340568768\n",
      "\n",
      "Epoch: 63\n"
     ]
    },
    {
     "name": "stderr",
     "output_type": "stream",
     "text": [
      "Train, Log likelihood in nats: -5.308015: 100%|██████████| 439060/439060 [01:48<00:00, 4045.41it/s]\n"
     ]
    },
    {
     "name": "stdout",
     "output_type": "stream",
     "text": [
      "n_nans = 0\n",
      "n_highs = 0\n",
      "train_loss =  5.307801731798213\n",
      "val_loss =  5.331889318962164\n",
      "\n",
      "Epoch: 64\n"
     ]
    },
    {
     "name": "stderr",
     "output_type": "stream",
     "text": [
      "Train, Log likelihood in nats: -5.307507: 100%|██████████| 439060/439060 [01:47<00:00, 4103.30it/s]\n"
     ]
    },
    {
     "name": "stdout",
     "output_type": "stream",
     "text": [
      "n_nans = 0\n",
      "n_highs = 0\n",
      "train_loss =  5.307457569093686\n",
      "val_loss =  5.332667133570966\n",
      "\n",
      "Epoch: 65\n"
     ]
    },
    {
     "name": "stderr",
     "output_type": "stream",
     "text": [
      "Train, Log likelihood in nats: -5.307588: 100%|██████████| 439060/439060 [01:51<00:00, 3948.28it/s]\n"
     ]
    },
    {
     "name": "stdout",
     "output_type": "stream",
     "text": [
      "n_nans = 0\n",
      "n_highs = 0\n",
      "train_loss =  5.307425261613574\n",
      "val_loss =  5.332843261239416\n",
      "\n",
      "Epoch: 66\n"
     ]
    },
    {
     "name": "stderr",
     "output_type": "stream",
     "text": [
      "Train, Log likelihood in nats: -5.307161: 100%|██████████| 439060/439060 [01:47<00:00, 4079.61it/s]\n"
     ]
    },
    {
     "name": "stdout",
     "output_type": "stream",
     "text": [
      "n_nans = 0\n",
      "n_highs = 0\n",
      "train_loss =  5.307280635053963\n",
      "val_loss =  5.332107098730863\n",
      "\n",
      "Epoch: 67\n"
     ]
    },
    {
     "name": "stderr",
     "output_type": "stream",
     "text": [
      "Train, Log likelihood in nats: -5.306491: 100%|██████████| 439060/439060 [01:46<00:00, 4117.16it/s]\n"
     ]
    },
    {
     "name": "stdout",
     "output_type": "stream",
     "text": [
      "n_nans = 0\n",
      "n_highs = 0\n",
      "train_loss =  5.306677770705852\n",
      "val_loss =  5.331861577524981\n",
      "\n",
      "Epoch: 68\n"
     ]
    },
    {
     "name": "stderr",
     "output_type": "stream",
     "text": [
      "Train, Log likelihood in nats: -5.306917: 100%|██████████| 439060/439060 [01:54<00:00, 3817.96it/s]\n"
     ]
    },
    {
     "name": "stdout",
     "output_type": "stream",
     "text": [
      "n_nans = 0\n",
      "n_highs = 0\n",
      "train_loss =  5.3069371412670625\n",
      "val_loss =  5.332796671003571\n",
      "\n",
      "Epoch: 69\n"
     ]
    },
    {
     "name": "stderr",
     "output_type": "stream",
     "text": [
      "Train, Log likelihood in nats: -5.306914: 100%|██████████| 439060/439060 [01:51<00:00, 3944.48it/s]\n"
     ]
    },
    {
     "name": "stdout",
     "output_type": "stream",
     "text": [
      "n_nans = 0\n",
      "n_highs = 0\n",
      "train_loss =  5.307020904372418\n",
      "val_loss =  5.331973858944824\n",
      "\n",
      "Epoch: 70\n"
     ]
    },
    {
     "name": "stderr",
     "output_type": "stream",
     "text": [
      "Train, Log likelihood in nats: -5.306730: 100%|██████████| 439060/439060 [01:50<00:00, 3969.68it/s]\n"
     ]
    },
    {
     "name": "stdout",
     "output_type": "stream",
     "text": [
      "n_nans = 0\n",
      "n_highs = 0\n",
      "train_loss =  5.3067657034739115\n",
      "val_loss =  5.331792764846775\n",
      "\n",
      "Epoch: 71\n"
     ]
    },
    {
     "name": "stderr",
     "output_type": "stream",
     "text": [
      "Train, Log likelihood in nats: -5.306555: 100%|██████████| 439060/439060 [01:50<00:00, 3968.83it/s]\n"
     ]
    },
    {
     "name": "stdout",
     "output_type": "stream",
     "text": [
      "n_nans = 0\n",
      "n_highs = 0\n",
      "train_loss =  5.306577074515794\n",
      "val_loss =  5.33239338992986\n",
      "\n",
      "Epoch: 72\n"
     ]
    },
    {
     "name": "stderr",
     "output_type": "stream",
     "text": [
      "Train, Log likelihood in nats: -5.306012: 100%|██████████| 439060/439060 [01:53<00:00, 3868.02it/s]\n"
     ]
    },
    {
     "name": "stdout",
     "output_type": "stream",
     "text": [
      "n_nans = 0\n",
      "n_highs = 0\n",
      "train_loss =  5.3062698042089185\n",
      "val_loss =  5.332608548342454\n",
      "\n",
      "Epoch: 73\n"
     ]
    },
    {
     "name": "stderr",
     "output_type": "stream",
     "text": [
      "Train, Log likelihood in nats: -5.306089: 100%|██████████| 439060/439060 [01:51<00:00, 3941.71it/s]\n"
     ]
    },
    {
     "name": "stdout",
     "output_type": "stream",
     "text": [
      "n_nans = 0\n",
      "n_highs = 0\n",
      "train_loss =  5.305914233811802\n",
      "val_loss =  5.331251199332831\n",
      "\n",
      "Epoch: 74\n"
     ]
    },
    {
     "name": "stderr",
     "output_type": "stream",
     "text": [
      "Train, Log likelihood in nats: -5.305763: 100%|██████████| 439060/439060 [01:52<00:00, 3892.65it/s]\n"
     ]
    },
    {
     "name": "stdout",
     "output_type": "stream",
     "text": [
      "n_nans = 0\n",
      "n_highs = 0\n",
      "train_loss =  5.3058564664926235\n",
      "val_loss =  5.331743914419444\n",
      "\n",
      "Epoch: 75\n"
     ]
    },
    {
     "name": "stderr",
     "output_type": "stream",
     "text": [
      "Train, Log likelihood in nats: -5.305664: 100%|██████████| 439060/439060 [01:51<00:00, 3948.34it/s]\n"
     ]
    },
    {
     "name": "stdout",
     "output_type": "stream",
     "text": [
      "n_nans = 0\n",
      "n_highs = 0\n",
      "train_loss =  5.305679404636193\n",
      "val_loss =  5.332065350930312\n",
      "\n",
      "Epoch: 76\n"
     ]
    },
    {
     "name": "stderr",
     "output_type": "stream",
     "text": [
      "Train, Log likelihood in nats: -5.305730: 100%|██████████| 439060/439060 [01:52<00:00, 3895.52it/s]\n"
     ]
    },
    {
     "name": "stdout",
     "output_type": "stream",
     "text": [
      "n_nans = 0\n",
      "n_highs = 0\n",
      "train_loss =  5.305544977100032\n",
      "val_loss =  5.332915378490668\n",
      "\n",
      "Epoch: 77\n"
     ]
    },
    {
     "name": "stderr",
     "output_type": "stream",
     "text": [
      "Train, Log likelihood in nats: -5.305459: 100%|██████████| 439060/439060 [01:52<00:00, 3886.56it/s]\n"
     ]
    },
    {
     "name": "stdout",
     "output_type": "stream",
     "text": [
      "n_nans = 0\n",
      "n_highs = 0\n",
      "train_loss =  5.305212195298723\n",
      "val_loss =  5.33269440066752\n",
      "\n",
      "Epoch: 78\n"
     ]
    },
    {
     "name": "stderr",
     "output_type": "stream",
     "text": [
      "Train, Log likelihood in nats: -5.305331: 100%|██████████| 439060/439060 [01:48<00:00, 4043.18it/s]\n"
     ]
    },
    {
     "name": "stdout",
     "output_type": "stream",
     "text": [
      "n_nans = 0\n",
      "n_highs = 0\n",
      "train_loss =  5.3054678490491725\n",
      "val_loss =  5.330837801488906\n",
      "\n",
      "Epoch: 79\n"
     ]
    },
    {
     "name": "stderr",
     "output_type": "stream",
     "text": [
      "Train, Log likelihood in nats: -5.304807: 100%|██████████| 439060/439060 [01:51<00:00, 3945.70it/s]\n"
     ]
    },
    {
     "name": "stdout",
     "output_type": "stream",
     "text": [
      "n_nans = 0\n",
      "n_highs = 0\n",
      "train_loss =  5.305185969565629\n",
      "val_loss =  5.332727515468631\n",
      "\n",
      "Epoch: 80\n"
     ]
    },
    {
     "name": "stderr",
     "output_type": "stream",
     "text": [
      "Train, Log likelihood in nats: -5.305014: 100%|██████████| 439060/439060 [01:49<00:00, 4000.23it/s]\n"
     ]
    },
    {
     "name": "stdout",
     "output_type": "stream",
     "text": [
      "n_nans = 0\n",
      "n_highs = 0\n",
      "train_loss =  5.3050915254724655\n",
      "val_loss =  5.334601393960949\n",
      "\n",
      "Epoch: 81\n"
     ]
    },
    {
     "name": "stderr",
     "output_type": "stream",
     "text": [
      "Train, Log likelihood in nats: -5.304852: 100%|██████████| 439060/439060 [01:54<00:00, 3847.52it/s]\n"
     ]
    },
    {
     "name": "stdout",
     "output_type": "stream",
     "text": [
      "n_nans = 0\n",
      "n_highs = 0\n",
      "train_loss =  5.305033320329436\n",
      "val_loss =  5.331799546253411\n",
      "\n",
      "Epoch: 82\n"
     ]
    },
    {
     "name": "stderr",
     "output_type": "stream",
     "text": [
      "Train, Log likelihood in nats: -5.304782: 100%|██████████| 439060/439060 [01:54<00:00, 3832.03it/s]\n"
     ]
    },
    {
     "name": "stdout",
     "output_type": "stream",
     "text": [
      "n_nans = 0\n",
      "n_highs = 0\n",
      "train_loss =  5.304814069959529\n",
      "val_loss =  5.332616740288326\n",
      "\n",
      "Epoch: 83\n"
     ]
    },
    {
     "name": "stderr",
     "output_type": "stream",
     "text": [
      "Train, Log likelihood in nats: -5.304440: 100%|██████████| 439060/439060 [01:49<00:00, 3991.48it/s]\n"
     ]
    },
    {
     "name": "stdout",
     "output_type": "stream",
     "text": [
      "n_nans = 0\n",
      "n_highs = 0\n",
      "train_loss =  5.304592490836992\n",
      "val_loss =  5.33074915554719\n",
      "\n",
      "Epoch: 84\n"
     ]
    },
    {
     "name": "stderr",
     "output_type": "stream",
     "text": [
      "Train, Log likelihood in nats: -5.303927: 100%|██████████| 439060/439060 [01:54<00:00, 3824.13it/s]\n"
     ]
    },
    {
     "name": "stdout",
     "output_type": "stream",
     "text": [
      "n_nans = 0\n",
      "n_highs = 0\n",
      "train_loss =  5.304016082672271\n",
      "val_loss =  5.331399996659311\n",
      "\n",
      "Epoch: 85\n"
     ]
    },
    {
     "name": "stderr",
     "output_type": "stream",
     "text": [
      "Train, Log likelihood in nats: -5.303993: 100%|██████████| 439060/439060 [01:53<00:00, 3859.96it/s]\n"
     ]
    },
    {
     "name": "stdout",
     "output_type": "stream",
     "text": [
      "n_nans = 0\n",
      "n_highs = 0\n",
      "train_loss =  5.304039053619247\n",
      "val_loss =  5.33253914315455\n",
      "\n",
      "Epoch: 86\n"
     ]
    },
    {
     "name": "stderr",
     "output_type": "stream",
     "text": [
      "Train, Log likelihood in nats: -5.303502: 100%|██████████| 439060/439060 [01:48<00:00, 4053.08it/s]\n"
     ]
    },
    {
     "name": "stdout",
     "output_type": "stream",
     "text": [
      "n_nans = 0\n",
      "n_highs = 0\n",
      "train_loss =  5.30398076346636\n",
      "val_loss =  5.33142468567294\n",
      "\n",
      "Epoch: 87\n"
     ]
    },
    {
     "name": "stderr",
     "output_type": "stream",
     "text": [
      "Train, Log likelihood in nats: -5.303533: 100%|██████████| 439060/439060 [01:48<00:00, 4044.59it/s]\n"
     ]
    },
    {
     "name": "stdout",
     "output_type": "stream",
     "text": [
      "n_nans = 0\n",
      "n_highs = 0\n",
      "train_loss =  5.303907622572273\n",
      "val_loss =  5.3334512161334775\n",
      "\n",
      "Epoch: 88\n"
     ]
    },
    {
     "name": "stderr",
     "output_type": "stream",
     "text": [
      "Train, Log likelihood in nats: -5.303918: 100%|██████████| 439060/439060 [01:47<00:00, 4066.82it/s]\n"
     ]
    },
    {
     "name": "stdout",
     "output_type": "stream",
     "text": [
      "n_nans = 0\n",
      "n_highs = 0\n",
      "train_loss =  5.3040167292722975\n",
      "val_loss =  5.331154305689414\n",
      "\n",
      "Epoch: 89\n"
     ]
    },
    {
     "name": "stderr",
     "output_type": "stream",
     "text": [
      "Train, Log likelihood in nats: -5.303633: 100%|██████████| 439060/439060 [01:47<00:00, 4088.97it/s]\n"
     ]
    },
    {
     "name": "stdout",
     "output_type": "stream",
     "text": [
      "n_nans = 0\n",
      "n_highs = 0\n",
      "train_loss =  5.303735813239612\n",
      "val_loss =  5.332354616328268\n",
      "\n",
      "Epoch: 90\n"
     ]
    },
    {
     "name": "stderr",
     "output_type": "stream",
     "text": [
      "Train, Log likelihood in nats: -5.303123: 100%|██████████| 439060/439060 [01:50<00:00, 3960.98it/s]\n"
     ]
    },
    {
     "name": "stdout",
     "output_type": "stream",
     "text": [
      "n_nans = 0\n",
      "n_highs = 0\n",
      "train_loss =  5.303407874153735\n",
      "val_loss =  5.331785541554396\n",
      "\n",
      "Epoch: 91\n"
     ]
    },
    {
     "name": "stderr",
     "output_type": "stream",
     "text": [
      "Train, Log likelihood in nats: -5.303061: 100%|██████████| 439060/439060 [01:49<00:00, 4005.48it/s]\n"
     ]
    },
    {
     "name": "stdout",
     "output_type": "stream",
     "text": [
      "n_nans = 0\n",
      "n_highs = 0\n",
      "train_loss =  5.303408116326215\n",
      "val_loss =  5.332799566145758\n",
      "\n",
      "Epoch: 92\n"
     ]
    },
    {
     "name": "stderr",
     "output_type": "stream",
     "text": [
      "Train, Log likelihood in nats: -5.303193: 100%|██████████| 439060/439060 [01:52<00:00, 3894.02it/s]\n"
     ]
    },
    {
     "name": "stdout",
     "output_type": "stream",
     "text": [
      "n_nans = 0\n",
      "n_highs = 0\n",
      "train_loss =  5.3030798083502235\n",
      "val_loss =  5.332603962217534\n",
      "\n",
      "Epoch: 93\n"
     ]
    },
    {
     "name": "stderr",
     "output_type": "stream",
     "text": [
      "Train, Log likelihood in nats: -5.302761: 100%|██████████| 439060/439060 [01:50<00:00, 3958.79it/s]\n"
     ]
    },
    {
     "name": "stdout",
     "output_type": "stream",
     "text": [
      "n_nans = 0\n",
      "n_highs = 0\n",
      "train_loss =  5.303183306498348\n",
      "val_loss =  5.331976842297726\n",
      "\n",
      "Epoch: 94\n"
     ]
    },
    {
     "name": "stderr",
     "output_type": "stream",
     "text": [
      "Train, Log likelihood in nats: -5.302510: 100%|██████████| 439060/439060 [01:54<00:00, 3823.02it/s]\n"
     ]
    },
    {
     "name": "stdout",
     "output_type": "stream",
     "text": [
      "n_nans = 0\n",
      "n_highs = 0\n",
      "train_loss =  5.303088321813618\n",
      "val_loss =  5.332861986043774\n",
      "\n",
      "Epoch: 95\n"
     ]
    },
    {
     "name": "stderr",
     "output_type": "stream",
     "text": [
      "Train, Log likelihood in nats: -5.303160: 100%|██████████| 439060/439060 [01:53<00:00, 3852.45it/s]\n"
     ]
    },
    {
     "name": "stdout",
     "output_type": "stream",
     "text": [
      "n_nans = 0\n",
      "n_highs = 0\n",
      "train_loss =  5.303296625015214\n",
      "val_loss =  5.33244280374071\n",
      "\n",
      "Epoch: 96\n"
     ]
    },
    {
     "name": "stderr",
     "output_type": "stream",
     "text": [
      "Train, Log likelihood in nats: -5.303257: 100%|██████████| 439060/439060 [01:51<00:00, 3920.37it/s]\n"
     ]
    },
    {
     "name": "stdout",
     "output_type": "stream",
     "text": [
      "n_nans = 0\n",
      "n_highs = 0\n",
      "train_loss =  5.303225797064803\n",
      "val_loss =  5.332321294315198\n",
      "\n",
      "Epoch: 97\n"
     ]
    },
    {
     "name": "stderr",
     "output_type": "stream",
     "text": [
      "Train, Log likelihood in nats: -5.302342: 100%|██████████| 439060/439060 [01:48<00:00, 4029.97it/s]\n"
     ]
    },
    {
     "name": "stdout",
     "output_type": "stream",
     "text": [
      "n_nans = 0\n",
      "n_highs = 0\n",
      "train_loss =  5.302690158786087\n",
      "val_loss =  5.3333921732078675\n",
      "\n",
      "Epoch: 98\n"
     ]
    },
    {
     "name": "stderr",
     "output_type": "stream",
     "text": [
      "Train, Log likelihood in nats: -5.302598: 100%|██████████| 439060/439060 [01:50<00:00, 3985.12it/s]\n"
     ]
    },
    {
     "name": "stdout",
     "output_type": "stream",
     "text": [
      "n_nans = 0\n",
      "n_highs = 0\n",
      "train_loss =  5.3026646235127854\n",
      "val_loss =  5.33171015801022\n",
      "\n",
      "Epoch: 99\n"
     ]
    },
    {
     "name": "stderr",
     "output_type": "stream",
     "text": [
      "Train, Log likelihood in nats: -5.302471: 100%|██████████| 439060/439060 [01:49<00:00, 4009.11it/s]\n"
     ]
    },
    {
     "name": "stdout",
     "output_type": "stream",
     "text": [
      "n_nans = 0\n",
      "n_highs = 0\n",
      "train_loss =  5.30241605886342\n",
      "val_loss =  5.333045075701169\n"
     ]
    }
   ],
   "source": [
    "# either train new flow model from scratch\n",
    "m_train = preprocessed_outerdata_train[:, 0]\n",
    "x_train = preprocessed_outerdata_train[:, 1:-1]\n",
    "m_val = preprocessed_outerdata_val[:, 0]\n",
    "x_val = preprocessed_outerdata_val[:, 1:-1]\n",
    "\n",
    "flow_savedir = \"./trained_flows_sklearn_new/\"\n",
    "model = ConditionalNormalizingFlow(save_path=flow_savedir)\n",
    "model.fit(m_train, x_train, m_val, x_val, epochs=100, verbose=True)"
   ]
  },
  {
   "cell_type": "code",
   "execution_count": 29,
   "metadata": {},
   "outputs": [],
   "source": [
    "# after training it still makes sense to go back to the optimal epoch checlpoint\n",
    "model.load_best_model()"
   ]
  },
  {
   "cell_type": "code",
   "execution_count": 6,
   "metadata": {},
   "outputs": [
    {
     "name": "stdout",
     "output_type": "stream",
     "text": [
      "ConditionalNormalizingFlow has 274800 parameters\n"
     ]
    }
   ],
   "source": [
    "# or loading existing flow model\n",
    "flow_savedir = \"./trained_flows_sklearn/\"\n",
    "model = ConditionalNormalizingFlow(save_path=flow_savedir)\n",
    "model.load_best_model()"
   ]
  },
  {
   "cell_type": "code",
   "execution_count": 30,
   "metadata": {},
   "outputs": [],
   "source": [
    "# drawing samples at the same conditional values as the inner data (sanity check)\n",
    "m_vals = preprocessed_innerdata_test[:, 0]\n",
    "samples = model.sample(m_vals)\n",
    "\n",
    "phyiscal_samples = inverse_standardize(samples, preprocessing_params[\"mean\"], preprocessing_params[\"std\"])\n",
    "phyiscal_samples = inverse_logit_transform(phyiscal_samples, preprocessing_params[\"min\"], preprocessing_params[\"max\"])\n",
    "\n",
    "phyiscal_samples = np.hstack([preprocessed_innerdata_test[:, 0:1], phyiscal_samples, phyiscal_samples[:, -1:]])"
   ]
  },
  {
   "cell_type": "code",
   "execution_count": 31,
   "metadata": {},
   "outputs": [
    {
     "data": {
      "image/png": "[encoded data removed]",
      "text/plain": [
       "<Figure size 432x288 with 1 Axes>"
      ]
     },
     "metadata": {},
     "output_type": "display_data"
    },
    {
     "data": {
      "image/png": "[encoded data removed]",
      "text/plain": [
       "<Figure size 432x288 with 1 Axes>"
      ]
     },
     "metadata": {},
     "output_type": "display_data"
    },
    {
     "data": {
      "image/png": "[encoded data removed]",
      "text/plain": [
       "<Figure size 432x288 with 1 Axes>"
      ]
     },
     "metadata": {},
     "output_type": "display_data"
    },
    {
     "data": {
      "image/png": "[encoded data removed]",
      "text/plain": [
       "<Figure size 432x288 with 1 Axes>"
      ]
     },
     "metadata": {},
     "output_type": "display_data"
    }
   ],
   "source": [
    "# comparing samples to inner background (sanity check)\n",
    "for i in range(1, 5):\n",
    "    _, binning, _ = plt.hist(innerdata_test[innerdata_test[:, -1] == 0, i], bins=100, label=\"data background\", density=True, histtype=\"step\")\n",
    "    _ = plt.hist(phyiscal_samples[:, i], bins=binning, label=\"sampled background\", density=True, histtype=\"step\")\n",
    "    plt.legend()\n",
    "    plt.ylim(0, plt.gca().get_ylim()[1] * 1.2)\n",
    "    plt.xlabel(\"feature {}\".format(i))\n",
    "    plt.ylabel(\"counts\")\n",
    "    plt.show()\n"
   ]
  },
  {
   "cell_type": "code",
   "execution_count": 32,
   "metadata": {},
   "outputs": [],
   "source": [
    "# evaluate likelihood of inner data points\n",
    "logit_log_prob = model.log_probs(\n",
    "    preprocessed_innerdata_test[:, 0],\n",
    "    preprocessed_innerdata_test[:, 1:-1]\n",
    ")\n",
    "\n",
    "# translating it to physical coordinates\n",
    "log_prob = logit_log_prob + np.sum(\n",
    "    np.log(\n",
    "        2 * (1 + np.cosh(preprocessed_innerdata_test[:, 1:-1] * preprocessing_params[\"std\"] + preprocessing_params[\"mean\"]))\n",
    "        / (preprocessing_params[\"std\"] * (preprocessing_params[\"max\"] - preprocessing_params[\"min\"]))\n",
    "    ), axis=1\n",
    ")"
   ]
  },
  {
   "cell_type": "code",
   "execution_count": 33,
   "metadata": {},
   "outputs": [
    {
     "name": "stdout",
     "output_type": "stream",
     "text": [
      "[4.79555547 3.3325226  2.58020505 ... 3.83912673 3.29012089 3.36853826]\n"
     ]
    }
   ],
   "source": [
    "print(log_prob)"
   ]
  },
  {
   "cell_type": "code",
   "execution_count": null,
   "metadata": {},
   "outputs": [],
   "source": []
  }
 ],
 "metadata": {
  "kernelspec": {
   "display_name": "CATHODEenv",
   "language": "python",
   "name": "python3"
  },
  "language_info": {
   "codemirror_mode": {
    "name": "ipython",
    "version": 3
   },
   "file_extension": ".py",
   "mimetype": "text/x-python",
   "name": "python",
   "nbconvert_exporter": "python",
   "pygments_lexer": "ipython3",
   "version": "3.11.4"
  },
  "orig_nbformat": 4
 },
 "nbformat": 4,
 "nbformat_minor": 2
}
